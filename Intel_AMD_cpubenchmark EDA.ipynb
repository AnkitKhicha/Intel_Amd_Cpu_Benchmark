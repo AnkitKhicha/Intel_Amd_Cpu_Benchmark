{
 "cells": [
  {
   "cell_type": "markdown",
   "id": "b9be83a5",
   "metadata": {},
   "source": [
    "#### CASE STUDY - EXPLORATORY DATA ANALYSIS : AMD - INTEL - CPU BENCHMARKS"
   ]
  },
  {
   "cell_type": "code",
   "execution_count": 237,
   "id": "c517d403",
   "metadata": {},
   "outputs": [],
   "source": [
    "# IMPORTING THE DATA SET\n",
    "import pandas as pd\n",
    "import numpy as np\n",
    "import seaborn as sns\n",
    "import calendar\n",
    "import matplotlib.pyplot as plt\n",
    "%matplotlib inline\n",
    "import datetime\n",
    "import warnings\n",
    "warnings.filterwarnings('ignore')"
   ]
  },
  {
   "cell_type": "code",
   "execution_count": 238,
   "id": "9af3536c",
   "metadata": {},
   "outputs": [],
   "source": [
    "amd = pd.read_csv(r\"C:\\Users\\Ankit Khicha\\amd_processors.csv\")\n",
    "intel = pd.read_csv(r\"C:\\Users\\Ankit Khicha\\intel_processors.csv\")\n",
    "cpubench = pd.read_csv(r\"C:\\Users\\Ankit Khicha\\cpu_benchmarks.csv\")"
   ]
  },
  {
   "cell_type": "code",
   "execution_count": 105,
   "id": "bf53da2e",
   "metadata": {},
   "outputs": [
    {
     "data": {
      "text/html": [
       "<div>\n",
       "<style scoped>\n",
       "    .dataframe tbody tr th:only-of-type {\n",
       "        vertical-align: middle;\n",
       "    }\n",
       "\n",
       "    .dataframe tbody tr th {\n",
       "        vertical-align: top;\n",
       "    }\n",
       "\n",
       "    .dataframe thead th {\n",
       "        text-align: right;\n",
       "    }\n",
       "</style>\n",
       "<table border=\"1\" class=\"dataframe\">\n",
       "  <thead>\n",
       "    <tr style=\"text-align: right;\">\n",
       "      <th></th>\n",
       "      <th>id</th>\n",
       "      <th>cores</th>\n",
       "      <th>threads</th>\n",
       "      <th>name</th>\n",
       "      <th>launch_date</th>\n",
       "      <th>lithography</th>\n",
       "      <th>base_frequency</th>\n",
       "      <th>turbo_frequency</th>\n",
       "      <th>cache_l1</th>\n",
       "      <th>cache_l2</th>\n",
       "      <th>cache_l3</th>\n",
       "      <th>tdp</th>\n",
       "      <th>product_line</th>\n",
       "      <th>socket</th>\n",
       "      <th>memory_type</th>\n",
       "      <th>url</th>\n",
       "      <th>vertical_segment</th>\n",
       "      <th>max_temp</th>\n",
       "      <th>max_memory_speed</th>\n",
       "      <th>sku</th>\n",
       "    </tr>\n",
       "  </thead>\n",
       "  <tbody>\n",
       "    <tr>\n",
       "      <th>0</th>\n",
       "      <td>1</td>\n",
       "      <td>16.0</td>\n",
       "      <td>32.0</td>\n",
       "      <td>AMD Ryzen 9 5950X</td>\n",
       "      <td>2020-11-05</td>\n",
       "      <td>7.0</td>\n",
       "      <td>3400</td>\n",
       "      <td>4900.0</td>\n",
       "      <td>NaN</td>\n",
       "      <td>8192.0</td>\n",
       "      <td>65536.0</td>\n",
       "      <td>105.0</td>\n",
       "      <td>AMD Ryzen 9 Desktop Processors</td>\n",
       "      <td>AM4</td>\n",
       "      <td>DDR4</td>\n",
       "      <td>https://www.amd.com/en/product/10456</td>\n",
       "      <td>Boxed Processor</td>\n",
       "      <td>90.0</td>\n",
       "      <td>3200.0</td>\n",
       "      <td>10456</td>\n",
       "    </tr>\n",
       "    <tr>\n",
       "      <th>1</th>\n",
       "      <td>2</td>\n",
       "      <td>12.0</td>\n",
       "      <td>24.0</td>\n",
       "      <td>AMD Ryzen 9 5900X</td>\n",
       "      <td>2020-11-05</td>\n",
       "      <td>7.0</td>\n",
       "      <td>3700</td>\n",
       "      <td>4800.0</td>\n",
       "      <td>NaN</td>\n",
       "      <td>6144.0</td>\n",
       "      <td>65536.0</td>\n",
       "      <td>105.0</td>\n",
       "      <td>AMD Ryzen 9 Desktop Processors</td>\n",
       "      <td>AM4</td>\n",
       "      <td>DDR4</td>\n",
       "      <td>https://www.amd.com/en/product/10461</td>\n",
       "      <td>Boxed Processor</td>\n",
       "      <td>90.0</td>\n",
       "      <td>3200.0</td>\n",
       "      <td>10461</td>\n",
       "    </tr>\n",
       "  </tbody>\n",
       "</table>\n",
       "</div>"
      ],
      "text/plain": [
       "   id  cores  threads               name launch_date  lithography  \\\n",
       "0   1   16.0     32.0  AMD Ryzen 9 5950X  2020-11-05          7.0   \n",
       "1   2   12.0     24.0  AMD Ryzen 9 5900X  2020-11-05          7.0   \n",
       "\n",
       "   base_frequency  turbo_frequency  cache_l1  cache_l2  cache_l3    tdp  \\\n",
       "0            3400           4900.0       NaN    8192.0   65536.0  105.0   \n",
       "1            3700           4800.0       NaN    6144.0   65536.0  105.0   \n",
       "\n",
       "                     product_line socket memory_type  \\\n",
       "0  AMD Ryzen 9 Desktop Processors    AM4        DDR4   \n",
       "1  AMD Ryzen 9 Desktop Processors    AM4        DDR4   \n",
       "\n",
       "                                    url vertical_segment  max_temp  \\\n",
       "0  https://www.amd.com/en/product/10456  Boxed Processor      90.0   \n",
       "1  https://www.amd.com/en/product/10461  Boxed Processor      90.0   \n",
       "\n",
       "   max_memory_speed    sku  \n",
       "0            3200.0  10456  \n",
       "1            3200.0  10461  "
      ]
     },
     "execution_count": 105,
     "metadata": {},
     "output_type": "execute_result"
    }
   ],
   "source": [
    "amd.head(2)"
   ]
  },
  {
   "cell_type": "code",
   "execution_count": 106,
   "id": "aa745e2a",
   "metadata": {},
   "outputs": [
    {
     "data": {
      "text/html": [
       "<div>\n",
       "<style scoped>\n",
       "    .dataframe tbody tr th:only-of-type {\n",
       "        vertical-align: middle;\n",
       "    }\n",
       "\n",
       "    .dataframe tbody tr th {\n",
       "        vertical-align: top;\n",
       "    }\n",
       "\n",
       "    .dataframe thead th {\n",
       "        text-align: right;\n",
       "    }\n",
       "</style>\n",
       "<table border=\"1\" class=\"dataframe\">\n",
       "  <thead>\n",
       "    <tr style=\"text-align: right;\">\n",
       "      <th></th>\n",
       "      <th>id</th>\n",
       "      <th>cores</th>\n",
       "      <th>threads</th>\n",
       "      <th>name</th>\n",
       "      <th>processor_number</th>\n",
       "      <th>launch_date</th>\n",
       "      <th>lithography</th>\n",
       "      <th>bus_speed</th>\n",
       "      <th>base_frequency</th>\n",
       "      <th>turbo_frequency</th>\n",
       "      <th>...</th>\n",
       "      <th>socket</th>\n",
       "      <th>memory_type</th>\n",
       "      <th>url</th>\n",
       "      <th>vertical_segment</th>\n",
       "      <th>max_memory_size</th>\n",
       "      <th>status</th>\n",
       "      <th>max_temp</th>\n",
       "      <th>sku</th>\n",
       "      <th>package_size</th>\n",
       "      <th>fullname</th>\n",
       "    </tr>\n",
       "  </thead>\n",
       "  <tbody>\n",
       "    <tr>\n",
       "      <th>0</th>\n",
       "      <td>1</td>\n",
       "      <td>2</td>\n",
       "      <td>2.0</td>\n",
       "      <td>Intel Atom C2338</td>\n",
       "      <td>C2338</td>\n",
       "      <td>2013-08-01</td>\n",
       "      <td>22.0</td>\n",
       "      <td>NaN</td>\n",
       "      <td>1700.0</td>\n",
       "      <td>2000.0</td>\n",
       "      <td>...</td>\n",
       "      <td>FCBGA1283</td>\n",
       "      <td>DDR3/DDR3L 1333</td>\n",
       "      <td>https://www.intel.com/content/www/us/en/produc...</td>\n",
       "      <td>Embedded</td>\n",
       "      <td>16777216.0</td>\n",
       "      <td>Launched</td>\n",
       "      <td>NaN</td>\n",
       "      <td>77976</td>\n",
       "      <td>34 mm x 28 mm</td>\n",
       "      <td>Intel Atom Processor C2338 (1M Cache, 1.70 GHz)</td>\n",
       "    </tr>\n",
       "    <tr>\n",
       "      <th>1</th>\n",
       "      <td>2</td>\n",
       "      <td>2</td>\n",
       "      <td>2.0</td>\n",
       "      <td>Intel Atom C2350</td>\n",
       "      <td>C2350</td>\n",
       "      <td>2013-08-01</td>\n",
       "      <td>22.0</td>\n",
       "      <td>NaN</td>\n",
       "      <td>1700.0</td>\n",
       "      <td>2000.0</td>\n",
       "      <td>...</td>\n",
       "      <td>FCBGA1283</td>\n",
       "      <td>DDR3/DDR3L 1333</td>\n",
       "      <td>https://www.intel.com/content/www/us/en/produc...</td>\n",
       "      <td>Server</td>\n",
       "      <td>16777216.0</td>\n",
       "      <td>Launched</td>\n",
       "      <td>98.0</td>\n",
       "      <td>77977</td>\n",
       "      <td>34 mm x 28 mm</td>\n",
       "      <td>Intel Atom Processor C2350 (1M Cache, 1.70 GHz)</td>\n",
       "    </tr>\n",
       "  </tbody>\n",
       "</table>\n",
       "<p>2 rows × 26 columns</p>\n",
       "</div>"
      ],
      "text/plain": [
       "   id  cores  threads              name processor_number launch_date  \\\n",
       "0   1      2      2.0  Intel Atom C2338            C2338  2013-08-01   \n",
       "1   2      2      2.0  Intel Atom C2350            C2350  2013-08-01   \n",
       "\n",
       "   lithography  bus_speed  base_frequency  turbo_frequency  ...     socket  \\\n",
       "0         22.0        NaN          1700.0           2000.0  ...  FCBGA1283   \n",
       "1         22.0        NaN          1700.0           2000.0  ...  FCBGA1283   \n",
       "\n",
       "       memory_type                                                url  \\\n",
       "0  DDR3/DDR3L 1333  https://www.intel.com/content/www/us/en/produc...   \n",
       "1  DDR3/DDR3L 1333  https://www.intel.com/content/www/us/en/produc...   \n",
       "\n",
       "   vertical_segment  max_memory_size    status max_temp    sku   package_size  \\\n",
       "0          Embedded       16777216.0  Launched      NaN  77976  34 mm x 28 mm   \n",
       "1            Server       16777216.0  Launched     98.0  77977  34 mm x 28 mm   \n",
       "\n",
       "                                          fullname  \n",
       "0  Intel Atom Processor C2338 (1M Cache, 1.70 GHz)  \n",
       "1  Intel Atom Processor C2350 (1M Cache, 1.70 GHz)  \n",
       "\n",
       "[2 rows x 26 columns]"
      ]
     },
     "execution_count": 106,
     "metadata": {},
     "output_type": "execute_result"
    }
   ],
   "source": [
    "intel.head(2)"
   ]
  },
  {
   "cell_type": "code",
   "execution_count": 107,
   "id": "8718b9e6",
   "metadata": {},
   "outputs": [
    {
     "data": {
      "text/html": [
       "<div>\n",
       "<style scoped>\n",
       "    .dataframe tbody tr th:only-of-type {\n",
       "        vertical-align: middle;\n",
       "    }\n",
       "\n",
       "    .dataframe tbody tr th {\n",
       "        vertical-align: top;\n",
       "    }\n",
       "\n",
       "    .dataframe thead th {\n",
       "        text-align: right;\n",
       "    }\n",
       "</style>\n",
       "<table border=\"1\" class=\"dataframe\">\n",
       "  <thead>\n",
       "    <tr style=\"text-align: right;\">\n",
       "      <th></th>\n",
       "      <th>id</th>\n",
       "      <th>manufacturer</th>\n",
       "      <th>sku</th>\n",
       "      <th>rating</th>\n",
       "      <th>url</th>\n",
       "    </tr>\n",
       "  </thead>\n",
       "  <tbody>\n",
       "    <tr>\n",
       "      <th>0</th>\n",
       "      <td>1</td>\n",
       "      <td>amd</td>\n",
       "      <td>10456</td>\n",
       "      <td>46113</td>\n",
       "      <td>https://www.cpubenchmark.net/cpu.php?cpu=AMD+R...</td>\n",
       "    </tr>\n",
       "    <tr>\n",
       "      <th>1</th>\n",
       "      <td>2</td>\n",
       "      <td>amd</td>\n",
       "      <td>10461</td>\n",
       "      <td>39634</td>\n",
       "      <td>https://www.cpubenchmark.net/cpu.php?cpu=AMD+R...</td>\n",
       "    </tr>\n",
       "  </tbody>\n",
       "</table>\n",
       "</div>"
      ],
      "text/plain": [
       "   id manufacturer    sku  rating  \\\n",
       "0   1          amd  10456   46113   \n",
       "1   2          amd  10461   39634   \n",
       "\n",
       "                                                 url  \n",
       "0  https://www.cpubenchmark.net/cpu.php?cpu=AMD+R...  \n",
       "1  https://www.cpubenchmark.net/cpu.php?cpu=AMD+R...  "
      ]
     },
     "execution_count": 107,
     "metadata": {},
     "output_type": "execute_result"
    }
   ],
   "source": [
    "cpubench.head(2)"
   ]
  },
  {
   "cell_type": "code",
   "execution_count": 108,
   "id": "d86f5f49",
   "metadata": {},
   "outputs": [
    {
     "data": {
      "text/plain": [
       "(538, 20)"
      ]
     },
     "execution_count": 108,
     "metadata": {},
     "output_type": "execute_result"
    }
   ],
   "source": [
    "amd.shape"
   ]
  },
  {
   "cell_type": "code",
   "execution_count": 109,
   "id": "70384f10",
   "metadata": {},
   "outputs": [
    {
     "data": {
      "text/plain": [
       "(1098, 26)"
      ]
     },
     "execution_count": 109,
     "metadata": {},
     "output_type": "execute_result"
    }
   ],
   "source": [
    "intel.shape"
   ]
  },
  {
   "cell_type": "code",
   "execution_count": 110,
   "id": "bd80ef2c",
   "metadata": {},
   "outputs": [
    {
     "data": {
      "text/plain": [
       "(1667, 5)"
      ]
     },
     "execution_count": 110,
     "metadata": {},
     "output_type": "execute_result"
    }
   ],
   "source": [
    "cpubench.shape"
   ]
  },
  {
   "cell_type": "code",
   "execution_count": 111,
   "id": "c28fffc1",
   "metadata": {},
   "outputs": [
    {
     "data": {
      "text/plain": [
       "Index(['id', 'cores', 'threads', 'name', 'launch_date', 'lithography',\n",
       "       'base_frequency', 'turbo_frequency', 'cache_l1', 'cache_l2', 'cache_l3',\n",
       "       'tdp', 'product_line', 'socket', 'memory_type', 'url',\n",
       "       'vertical_segment', 'max_temp', 'max_memory_speed', 'sku'],\n",
       "      dtype='object')"
      ]
     },
     "execution_count": 111,
     "metadata": {},
     "output_type": "execute_result"
    }
   ],
   "source": [
    "amd.columns"
   ]
  },
  {
   "cell_type": "code",
   "execution_count": 112,
   "id": "888862bc",
   "metadata": {},
   "outputs": [
    {
     "data": {
      "text/plain": [
       "Index(['id', 'cores', 'threads', 'name', 'processor_number', 'launch_date',\n",
       "       'lithography', 'bus_speed', 'base_frequency', 'turbo_frequency',\n",
       "       'configurable_tdp_up_frequency', 'cache_size', 'tdp',\n",
       "       'configurable_tdp_up', 'price', 'product_line', 'socket', 'memory_type',\n",
       "       'url', 'vertical_segment', 'max_memory_size', 'status', 'max_temp',\n",
       "       'sku', 'package_size', 'fullname'],\n",
       "      dtype='object')"
      ]
     },
     "execution_count": 112,
     "metadata": {},
     "output_type": "execute_result"
    }
   ],
   "source": [
    "intel.columns"
   ]
  },
  {
   "cell_type": "code",
   "execution_count": 113,
   "id": "a2cab05a",
   "metadata": {},
   "outputs": [
    {
     "data": {
      "text/plain": [
       "Index(['id', 'manufacturer', 'sku', 'rating', 'url'], dtype='object')"
      ]
     },
     "execution_count": 113,
     "metadata": {},
     "output_type": "execute_result"
    }
   ],
   "source": [
    "cpubench.columns"
   ]
  },
  {
   "cell_type": "code",
   "execution_count": 114,
   "id": "79428e82",
   "metadata": {},
   "outputs": [
    {
     "name": "stdout",
     "output_type": "stream",
     "text": [
      "<class 'pandas.core.frame.DataFrame'>\n",
      "RangeIndex: 538 entries, 0 to 537\n",
      "Data columns (total 20 columns):\n",
      " #   Column            Non-Null Count  Dtype  \n",
      "---  ------            --------------  -----  \n",
      " 0   id                538 non-null    int64  \n",
      " 1   cores             533 non-null    float64\n",
      " 2   threads           478 non-null    float64\n",
      " 3   name              538 non-null    object \n",
      " 4   launch_date       185 non-null    object \n",
      " 5   lithography       440 non-null    float64\n",
      " 6   base_frequency    538 non-null    int64  \n",
      " 7   turbo_frequency   457 non-null    float64\n",
      " 8   cache_l1          285 non-null    float64\n",
      " 9   cache_l2          476 non-null    float64\n",
      " 10  cache_l3          331 non-null    float64\n",
      " 11  tdp               523 non-null    float64\n",
      " 12  product_line      538 non-null    object \n",
      " 13  socket            520 non-null    object \n",
      " 14  memory_type       503 non-null    object \n",
      " 15  url               538 non-null    object \n",
      " 16  vertical_segment  538 non-null    object \n",
      " 17  max_temp          407 non-null    float64\n",
      " 18  max_memory_speed  442 non-null    float64\n",
      " 19  sku               538 non-null    int64  \n",
      "dtypes: float64(10), int64(3), object(7)\n",
      "memory usage: 84.2+ KB\n"
     ]
    }
   ],
   "source": [
    "amd.info()"
   ]
  },
  {
   "cell_type": "code",
   "execution_count": 115,
   "id": "61a9b79e",
   "metadata": {},
   "outputs": [
    {
     "name": "stdout",
     "output_type": "stream",
     "text": [
      "<class 'pandas.core.frame.DataFrame'>\n",
      "RangeIndex: 1098 entries, 0 to 1097\n",
      "Data columns (total 26 columns):\n",
      " #   Column                         Non-Null Count  Dtype  \n",
      "---  ------                         --------------  -----  \n",
      " 0   id                             1098 non-null   int64  \n",
      " 1   cores                          1098 non-null   int64  \n",
      " 2   threads                        1094 non-null   float64\n",
      " 3   name                           1098 non-null   object \n",
      " 4   processor_number               1098 non-null   object \n",
      " 5   launch_date                    1098 non-null   object \n",
      " 6   lithography                    1089 non-null   float64\n",
      " 7   bus_speed                      713 non-null    float64\n",
      " 8   base_frequency                 1055 non-null   float64\n",
      " 9   turbo_frequency                871 non-null    float64\n",
      " 10  configurable_tdp_up_frequency  98 non-null     float64\n",
      " 11  cache_size                     1098 non-null   int64  \n",
      " 12  tdp                            1044 non-null   float64\n",
      " 13  configurable_tdp_up            102 non-null    float64\n",
      " 14  price                          839 non-null    float64\n",
      " 15  product_line                   1098 non-null   object \n",
      " 16  socket                         1046 non-null   object \n",
      " 17  memory_type                    1094 non-null   object \n",
      " 18  url                            1098 non-null   object \n",
      " 19  vertical_segment               1098 non-null   object \n",
      " 20  max_memory_size                1092 non-null   float64\n",
      " 21  status                         1098 non-null   object \n",
      " 22  max_temp                       997 non-null    float64\n",
      " 23  sku                            1098 non-null   int64  \n",
      " 24  package_size                   1048 non-null   object \n",
      " 25  fullname                       1098 non-null   object \n",
      "dtypes: float64(11), int64(4), object(11)\n",
      "memory usage: 223.2+ KB\n"
     ]
    }
   ],
   "source": [
    "intel.info()"
   ]
  },
  {
   "cell_type": "code",
   "execution_count": 116,
   "id": "00b874be",
   "metadata": {},
   "outputs": [
    {
     "name": "stdout",
     "output_type": "stream",
     "text": [
      "<class 'pandas.core.frame.DataFrame'>\n",
      "RangeIndex: 1667 entries, 0 to 1666\n",
      "Data columns (total 5 columns):\n",
      " #   Column        Non-Null Count  Dtype \n",
      "---  ------        --------------  ----- \n",
      " 0   id            1667 non-null   int64 \n",
      " 1   manufacturer  1667 non-null   object\n",
      " 2   sku           1667 non-null   int64 \n",
      " 3   rating        1667 non-null   int64 \n",
      " 4   url           1667 non-null   object\n",
      "dtypes: int64(3), object(2)\n",
      "memory usage: 65.2+ KB\n"
     ]
    }
   ],
   "source": [
    "cpubench.info()"
   ]
  },
  {
   "cell_type": "code",
   "execution_count": 117,
   "id": "7f836bee",
   "metadata": {},
   "outputs": [
    {
     "data": {
      "text/html": [
       "<div>\n",
       "<style scoped>\n",
       "    .dataframe tbody tr th:only-of-type {\n",
       "        vertical-align: middle;\n",
       "    }\n",
       "\n",
       "    .dataframe tbody tr th {\n",
       "        vertical-align: top;\n",
       "    }\n",
       "\n",
       "    .dataframe thead th {\n",
       "        text-align: right;\n",
       "    }\n",
       "</style>\n",
       "<table border=\"1\" class=\"dataframe\">\n",
       "  <thead>\n",
       "    <tr style=\"text-align: right;\">\n",
       "      <th></th>\n",
       "      <th>id</th>\n",
       "      <th>cores</th>\n",
       "      <th>threads</th>\n",
       "      <th>lithography</th>\n",
       "      <th>base_frequency</th>\n",
       "      <th>turbo_frequency</th>\n",
       "      <th>cache_l1</th>\n",
       "      <th>cache_l2</th>\n",
       "      <th>cache_l3</th>\n",
       "      <th>tdp</th>\n",
       "      <th>max_temp</th>\n",
       "      <th>max_memory_speed</th>\n",
       "      <th>sku</th>\n",
       "    </tr>\n",
       "  </thead>\n",
       "  <tbody>\n",
       "    <tr>\n",
       "      <th>count</th>\n",
       "      <td>538.000000</td>\n",
       "      <td>533.000000</td>\n",
       "      <td>478.000000</td>\n",
       "      <td>440.000000</td>\n",
       "      <td>538.000000</td>\n",
       "      <td>457.000000</td>\n",
       "      <td>285.000000</td>\n",
       "      <td>476.000000</td>\n",
       "      <td>331.000000</td>\n",
       "      <td>523.000000</td>\n",
       "      <td>407.000000</td>\n",
       "      <td>442.000000</td>\n",
       "      <td>538.000000</td>\n",
       "    </tr>\n",
       "    <tr>\n",
       "      <th>mean</th>\n",
       "      <td>269.500000</td>\n",
       "      <td>8.221388</td>\n",
       "      <td>14.845188</td>\n",
       "      <td>21.454545</td>\n",
       "      <td>2859.211896</td>\n",
       "      <td>3684.463895</td>\n",
       "      <td>1834.635088</td>\n",
       "      <td>3787.294118</td>\n",
       "      <td>40106.151057</td>\n",
       "      <td>75.952103</td>\n",
       "      <td>86.056757</td>\n",
       "      <td>2414.757919</td>\n",
       "      <td>6003.184015</td>\n",
       "    </tr>\n",
       "    <tr>\n",
       "      <th>std</th>\n",
       "      <td>155.451493</td>\n",
       "      <td>10.689384</td>\n",
       "      <td>22.932795</td>\n",
       "      <td>10.181171</td>\n",
       "      <td>742.696634</td>\n",
       "      <td>581.104974</td>\n",
       "      <td>16409.339262</td>\n",
       "      <td>3762.119632</td>\n",
       "      <td>67740.518522</td>\n",
       "      <td>62.218723</td>\n",
       "      <td>13.499004</td>\n",
       "      <td>589.984217</td>\n",
       "      <td>3425.042337</td>\n",
       "    </tr>\n",
       "    <tr>\n",
       "      <th>min</th>\n",
       "      <td>1.000000</td>\n",
       "      <td>2.000000</td>\n",
       "      <td>2.000000</td>\n",
       "      <td>7.000000</td>\n",
       "      <td>56.000000</td>\n",
       "      <td>1500.000000</td>\n",
       "      <td>0.000000</td>\n",
       "      <td>512.000000</td>\n",
       "      <td>4096.000000</td>\n",
       "      <td>3.950000</td>\n",
       "      <td>57.000000</td>\n",
       "      <td>186.000000</td>\n",
       "      <td>1216.000000</td>\n",
       "    </tr>\n",
       "    <tr>\n",
       "      <th>25%</th>\n",
       "      <td>135.250000</td>\n",
       "      <td>4.000000</td>\n",
       "      <td>4.000000</td>\n",
       "      <td>12.000000</td>\n",
       "      <td>2300.000000</td>\n",
       "      <td>3350.000000</td>\n",
       "      <td>256.000000</td>\n",
       "      <td>2048.000000</td>\n",
       "      <td>5120.000000</td>\n",
       "      <td>35.000000</td>\n",
       "      <td>71.300000</td>\n",
       "      <td>2000.000000</td>\n",
       "      <td>1927.250000</td>\n",
       "    </tr>\n",
       "    <tr>\n",
       "      <th>50%</th>\n",
       "      <td>269.500000</td>\n",
       "      <td>4.000000</td>\n",
       "      <td>8.000000</td>\n",
       "      <td>28.000000</td>\n",
       "      <td>3000.000000</td>\n",
       "      <td>3800.000000</td>\n",
       "      <td>384.000000</td>\n",
       "      <td>2048.000000</td>\n",
       "      <td>8192.000000</td>\n",
       "      <td>65.000000</td>\n",
       "      <td>90.000000</td>\n",
       "      <td>2400.000000</td>\n",
       "      <td>6038.500000</td>\n",
       "    </tr>\n",
       "    <tr>\n",
       "      <th>75%</th>\n",
       "      <td>403.750000</td>\n",
       "      <td>8.000000</td>\n",
       "      <td>16.000000</td>\n",
       "      <td>28.000000</td>\n",
       "      <td>3500.000000</td>\n",
       "      <td>4100.000000</td>\n",
       "      <td>512.000000</td>\n",
       "      <td>4096.000000</td>\n",
       "      <td>32768.000000</td>\n",
       "      <td>99.000000</td>\n",
       "      <td>95.000000</td>\n",
       "      <td>2933.000000</td>\n",
       "      <td>8911.000000</td>\n",
       "    </tr>\n",
       "    <tr>\n",
       "      <th>max</th>\n",
       "      <td>538.000000</td>\n",
       "      <td>64.000000</td>\n",
       "      <td>128.000000</td>\n",
       "      <td>65.000000</td>\n",
       "      <td>4700.000000</td>\n",
       "      <td>5000.000000</td>\n",
       "      <td>196608.000000</td>\n",
       "      <td>32768.000000</td>\n",
       "      <td>262144.000000</td>\n",
       "      <td>280.000000</td>\n",
       "      <td>105.000000</td>\n",
       "      <td>4267.000000</td>\n",
       "      <td>11291.000000</td>\n",
       "    </tr>\n",
       "  </tbody>\n",
       "</table>\n",
       "</div>"
      ],
      "text/plain": [
       "               id       cores     threads  lithography  base_frequency  \\\n",
       "count  538.000000  533.000000  478.000000   440.000000      538.000000   \n",
       "mean   269.500000    8.221388   14.845188    21.454545     2859.211896   \n",
       "std    155.451493   10.689384   22.932795    10.181171      742.696634   \n",
       "min      1.000000    2.000000    2.000000     7.000000       56.000000   \n",
       "25%    135.250000    4.000000    4.000000    12.000000     2300.000000   \n",
       "50%    269.500000    4.000000    8.000000    28.000000     3000.000000   \n",
       "75%    403.750000    8.000000   16.000000    28.000000     3500.000000   \n",
       "max    538.000000   64.000000  128.000000    65.000000     4700.000000   \n",
       "\n",
       "       turbo_frequency       cache_l1      cache_l2       cache_l3  \\\n",
       "count       457.000000     285.000000    476.000000     331.000000   \n",
       "mean       3684.463895    1834.635088   3787.294118   40106.151057   \n",
       "std         581.104974   16409.339262   3762.119632   67740.518522   \n",
       "min        1500.000000       0.000000    512.000000    4096.000000   \n",
       "25%        3350.000000     256.000000   2048.000000    5120.000000   \n",
       "50%        3800.000000     384.000000   2048.000000    8192.000000   \n",
       "75%        4100.000000     512.000000   4096.000000   32768.000000   \n",
       "max        5000.000000  196608.000000  32768.000000  262144.000000   \n",
       "\n",
       "              tdp    max_temp  max_memory_speed           sku  \n",
       "count  523.000000  407.000000        442.000000    538.000000  \n",
       "mean    75.952103   86.056757       2414.757919   6003.184015  \n",
       "std     62.218723   13.499004        589.984217   3425.042337  \n",
       "min      3.950000   57.000000        186.000000   1216.000000  \n",
       "25%     35.000000   71.300000       2000.000000   1927.250000  \n",
       "50%     65.000000   90.000000       2400.000000   6038.500000  \n",
       "75%     99.000000   95.000000       2933.000000   8911.000000  \n",
       "max    280.000000  105.000000       4267.000000  11291.000000  "
      ]
     },
     "execution_count": 117,
     "metadata": {},
     "output_type": "execute_result"
    }
   ],
   "source": [
    "amd.describe()"
   ]
  },
  {
   "cell_type": "code",
   "execution_count": 118,
   "id": "e4b8e23d",
   "metadata": {},
   "outputs": [
    {
     "data": {
      "text/html": [
       "<div>\n",
       "<style scoped>\n",
       "    .dataframe tbody tr th:only-of-type {\n",
       "        vertical-align: middle;\n",
       "    }\n",
       "\n",
       "    .dataframe tbody tr th {\n",
       "        vertical-align: top;\n",
       "    }\n",
       "\n",
       "    .dataframe thead th {\n",
       "        text-align: right;\n",
       "    }\n",
       "</style>\n",
       "<table border=\"1\" class=\"dataframe\">\n",
       "  <thead>\n",
       "    <tr style=\"text-align: right;\">\n",
       "      <th></th>\n",
       "      <th>id</th>\n",
       "      <th>cores</th>\n",
       "      <th>threads</th>\n",
       "      <th>lithography</th>\n",
       "      <th>bus_speed</th>\n",
       "      <th>base_frequency</th>\n",
       "      <th>turbo_frequency</th>\n",
       "      <th>configurable_tdp_up_frequency</th>\n",
       "      <th>cache_size</th>\n",
       "      <th>tdp</th>\n",
       "      <th>configurable_tdp_up</th>\n",
       "      <th>price</th>\n",
       "      <th>max_memory_size</th>\n",
       "      <th>max_temp</th>\n",
       "      <th>sku</th>\n",
       "    </tr>\n",
       "  </thead>\n",
       "  <tbody>\n",
       "    <tr>\n",
       "      <th>count</th>\n",
       "      <td>1098.000000</td>\n",
       "      <td>1098.000000</td>\n",
       "      <td>1094.000000</td>\n",
       "      <td>1089.000000</td>\n",
       "      <td>713.000000</td>\n",
       "      <td>1055.00000</td>\n",
       "      <td>871.000000</td>\n",
       "      <td>98.000000</td>\n",
       "      <td>1098.000000</td>\n",
       "      <td>1044.000000</td>\n",
       "      <td>102.000000</td>\n",
       "      <td>839.000000</td>\n",
       "      <td>1.092000e+03</td>\n",
       "      <td>997.000000</td>\n",
       "      <td>1098.000000</td>\n",
       "    </tr>\n",
       "    <tr>\n",
       "      <th>mean</th>\n",
       "      <td>549.500000</td>\n",
       "      <td>7.590164</td>\n",
       "      <td>14.213894</td>\n",
       "      <td>15.052342</td>\n",
       "      <td>6.417251</td>\n",
       "      <td>2574.64455</td>\n",
       "      <td>3817.451206</td>\n",
       "      <td>2304.081633</td>\n",
       "      <td>12479.417122</td>\n",
       "      <td>71.895929</td>\n",
       "      <td>28.637255</td>\n",
       "      <td>962.468415</td>\n",
       "      <td>5.190611e+08</td>\n",
       "      <td>92.344393</td>\n",
       "      <td>146000.132058</td>\n",
       "    </tr>\n",
       "    <tr>\n",
       "      <th>std</th>\n",
       "      <td>317.109603</td>\n",
       "      <td>7.403193</td>\n",
       "      <td>15.188295</td>\n",
       "      <td>3.725658</td>\n",
       "      <td>1.831803</td>\n",
       "      <td>731.75703</td>\n",
       "      <td>730.733171</td>\n",
       "      <td>579.889497</td>\n",
       "      <td>11284.822042</td>\n",
       "      <td>60.078343</td>\n",
       "      <td>14.011869</td>\n",
       "      <td>1690.784810</td>\n",
       "      <td>1.282325e+09</td>\n",
       "      <td>12.042750</td>\n",
       "      <td>53373.998994</td>\n",
       "    </tr>\n",
       "    <tr>\n",
       "      <th>min</th>\n",
       "      <td>1.000000</td>\n",
       "      <td>2.000000</td>\n",
       "      <td>2.000000</td>\n",
       "      <td>10.000000</td>\n",
       "      <td>0.000000</td>\n",
       "      <td>700.00000</td>\n",
       "      <td>1300.000000</td>\n",
       "      <td>1000.000000</td>\n",
       "      <td>1024.000000</td>\n",
       "      <td>4.000000</td>\n",
       "      <td>7.000000</td>\n",
       "      <td>18.000000</td>\n",
       "      <td>4.194304e+06</td>\n",
       "      <td>58.000000</td>\n",
       "      <td>43523.000000</td>\n",
       "    </tr>\n",
       "    <tr>\n",
       "      <th>25%</th>\n",
       "      <td>275.250000</td>\n",
       "      <td>2.000000</td>\n",
       "      <td>4.000000</td>\n",
       "      <td>14.000000</td>\n",
       "      <td>5.000000</td>\n",
       "      <td>2100.00000</td>\n",
       "      <td>3400.000000</td>\n",
       "      <td>1800.000000</td>\n",
       "      <td>4096.000000</td>\n",
       "      <td>28.000000</td>\n",
       "      <td>25.000000</td>\n",
       "      <td>195.000000</td>\n",
       "      <td>3.355443e+07</td>\n",
       "      <td>85.000000</td>\n",
       "      <td>91156.250000</td>\n",
       "    </tr>\n",
       "    <tr>\n",
       "      <th>50%</th>\n",
       "      <td>549.500000</td>\n",
       "      <td>4.000000</td>\n",
       "      <td>8.000000</td>\n",
       "      <td>14.000000</td>\n",
       "      <td>8.000000</td>\n",
       "      <td>2500.00000</td>\n",
       "      <td>3800.000000</td>\n",
       "      <td>2400.000000</td>\n",
       "      <td>8192.000000</td>\n",
       "      <td>53.000000</td>\n",
       "      <td>25.000000</td>\n",
       "      <td>332.000000</td>\n",
       "      <td>1.342177e+08</td>\n",
       "      <td>100.000000</td>\n",
       "      <td>134878.500000</td>\n",
       "    </tr>\n",
       "    <tr>\n",
       "      <th>75%</th>\n",
       "      <td>823.750000</td>\n",
       "      <td>8.000000</td>\n",
       "      <td>16.000000</td>\n",
       "      <td>14.000000</td>\n",
       "      <td>8.000000</td>\n",
       "      <td>3100.00000</td>\n",
       "      <td>4400.000000</td>\n",
       "      <td>2700.000000</td>\n",
       "      <td>16384.000000</td>\n",
       "      <td>105.000000</td>\n",
       "      <td>35.000000</td>\n",
       "      <td>737.500000</td>\n",
       "      <td>1.342177e+08</td>\n",
       "      <td>100.000000</td>\n",
       "      <td>198641.500000</td>\n",
       "    </tr>\n",
       "    <tr>\n",
       "      <th>max</th>\n",
       "      <td>1098.000000</td>\n",
       "      <td>56.000000</td>\n",
       "      <td>112.000000</td>\n",
       "      <td>32.000000</td>\n",
       "      <td>8.000000</td>\n",
       "      <td>4300.00000</td>\n",
       "      <td>5300.000000</td>\n",
       "      <td>3400.000000</td>\n",
       "      <td>78848.000000</td>\n",
       "      <td>400.000000</td>\n",
       "      <td>65.000000</td>\n",
       "      <td>13012.000000</td>\n",
       "      <td>6.442451e+09</td>\n",
       "      <td>105.000000</td>\n",
       "      <td>218701.000000</td>\n",
       "    </tr>\n",
       "  </tbody>\n",
       "</table>\n",
       "</div>"
      ],
      "text/plain": [
       "                id        cores      threads  lithography   bus_speed  \\\n",
       "count  1098.000000  1098.000000  1094.000000  1089.000000  713.000000   \n",
       "mean    549.500000     7.590164    14.213894    15.052342    6.417251   \n",
       "std     317.109603     7.403193    15.188295     3.725658    1.831803   \n",
       "min       1.000000     2.000000     2.000000    10.000000    0.000000   \n",
       "25%     275.250000     2.000000     4.000000    14.000000    5.000000   \n",
       "50%     549.500000     4.000000     8.000000    14.000000    8.000000   \n",
       "75%     823.750000     8.000000    16.000000    14.000000    8.000000   \n",
       "max    1098.000000    56.000000   112.000000    32.000000    8.000000   \n",
       "\n",
       "       base_frequency  turbo_frequency  configurable_tdp_up_frequency  \\\n",
       "count      1055.00000       871.000000                      98.000000   \n",
       "mean       2574.64455      3817.451206                    2304.081633   \n",
       "std         731.75703       730.733171                     579.889497   \n",
       "min         700.00000      1300.000000                    1000.000000   \n",
       "25%        2100.00000      3400.000000                    1800.000000   \n",
       "50%        2500.00000      3800.000000                    2400.000000   \n",
       "75%        3100.00000      4400.000000                    2700.000000   \n",
       "max        4300.00000      5300.000000                    3400.000000   \n",
       "\n",
       "         cache_size          tdp  configurable_tdp_up         price  \\\n",
       "count   1098.000000  1044.000000           102.000000    839.000000   \n",
       "mean   12479.417122    71.895929            28.637255    962.468415   \n",
       "std    11284.822042    60.078343            14.011869   1690.784810   \n",
       "min     1024.000000     4.000000             7.000000     18.000000   \n",
       "25%     4096.000000    28.000000            25.000000    195.000000   \n",
       "50%     8192.000000    53.000000            25.000000    332.000000   \n",
       "75%    16384.000000   105.000000            35.000000    737.500000   \n",
       "max    78848.000000   400.000000            65.000000  13012.000000   \n",
       "\n",
       "       max_memory_size    max_temp            sku  \n",
       "count     1.092000e+03  997.000000    1098.000000  \n",
       "mean      5.190611e+08   92.344393  146000.132058  \n",
       "std       1.282325e+09   12.042750   53373.998994  \n",
       "min       4.194304e+06   58.000000   43523.000000  \n",
       "25%       3.355443e+07   85.000000   91156.250000  \n",
       "50%       1.342177e+08  100.000000  134878.500000  \n",
       "75%       1.342177e+08  100.000000  198641.500000  \n",
       "max       6.442451e+09  105.000000  218701.000000  "
      ]
     },
     "execution_count": 118,
     "metadata": {},
     "output_type": "execute_result"
    }
   ],
   "source": [
    "intel.describe()"
   ]
  },
  {
   "cell_type": "code",
   "execution_count": 37,
   "id": "8e90cb5a",
   "metadata": {},
   "outputs": [
    {
     "data": {
      "text/html": [
       "<div>\n",
       "<style scoped>\n",
       "    .dataframe tbody tr th:only-of-type {\n",
       "        vertical-align: middle;\n",
       "    }\n",
       "\n",
       "    .dataframe tbody tr th {\n",
       "        vertical-align: top;\n",
       "    }\n",
       "\n",
       "    .dataframe thead th {\n",
       "        text-align: right;\n",
       "    }\n",
       "</style>\n",
       "<table border=\"1\" class=\"dataframe\">\n",
       "  <thead>\n",
       "    <tr style=\"text-align: right;\">\n",
       "      <th></th>\n",
       "      <th>id</th>\n",
       "      <th>sku</th>\n",
       "      <th>rating</th>\n",
       "    </tr>\n",
       "  </thead>\n",
       "  <tbody>\n",
       "    <tr>\n",
       "      <th>count</th>\n",
       "      <td>1667.000000</td>\n",
       "      <td>1667.000000</td>\n",
       "      <td>1667.000000</td>\n",
       "    </tr>\n",
       "    <tr>\n",
       "      <th>mean</th>\n",
       "      <td>834.000000</td>\n",
       "      <td>84215.235753</td>\n",
       "      <td>8068.811038</td>\n",
       "    </tr>\n",
       "    <tr>\n",
       "      <th>std</th>\n",
       "      <td>481.365765</td>\n",
       "      <td>60703.514320</td>\n",
       "      <td>10191.251437</td>\n",
       "    </tr>\n",
       "    <tr>\n",
       "      <th>min</th>\n",
       "      <td>1.000000</td>\n",
       "      <td>1221.000000</td>\n",
       "      <td>106.000000</td>\n",
       "    </tr>\n",
       "    <tr>\n",
       "      <th>25%</th>\n",
       "      <td>417.500000</td>\n",
       "      <td>42808.000000</td>\n",
       "      <td>2017.000000</td>\n",
       "    </tr>\n",
       "    <tr>\n",
       "      <th>50%</th>\n",
       "      <td>834.000000</td>\n",
       "      <td>76622.000000</td>\n",
       "      <td>4522.000000</td>\n",
       "    </tr>\n",
       "    <tr>\n",
       "      <th>75%</th>\n",
       "      <td>1250.500000</td>\n",
       "      <td>97472.500000</td>\n",
       "      <td>9738.500000</td>\n",
       "    </tr>\n",
       "    <tr>\n",
       "      <th>max</th>\n",
       "      <td>1667.000000</td>\n",
       "      <td>217187.000000</td>\n",
       "      <td>87767.000000</td>\n",
       "    </tr>\n",
       "  </tbody>\n",
       "</table>\n",
       "</div>"
      ],
      "text/plain": [
       "                id            sku        rating\n",
       "count  1667.000000    1667.000000   1667.000000\n",
       "mean    834.000000   84215.235753   8068.811038\n",
       "std     481.365765   60703.514320  10191.251437\n",
       "min       1.000000    1221.000000    106.000000\n",
       "25%     417.500000   42808.000000   2017.000000\n",
       "50%     834.000000   76622.000000   4522.000000\n",
       "75%    1250.500000   97472.500000   9738.500000\n",
       "max    1667.000000  217187.000000  87767.000000"
      ]
     },
     "execution_count": 37,
     "metadata": {},
     "output_type": "execute_result"
    }
   ],
   "source": [
    "cpubench.describe()"
   ]
  },
  {
   "cell_type": "code",
   "execution_count": 38,
   "id": "c4a4ebc4",
   "metadata": {},
   "outputs": [
    {
     "data": {
      "text/plain": [
       "id                    0\n",
       "cores                 5\n",
       "threads              60\n",
       "name                  0\n",
       "launch_date         353\n",
       "lithography          98\n",
       "base_frequency        0\n",
       "turbo_frequency      81\n",
       "cache_l1            253\n",
       "cache_l2             62\n",
       "cache_l3            207\n",
       "tdp                  15\n",
       "product_line          0\n",
       "socket               18\n",
       "memory_type          35\n",
       "url                   0\n",
       "vertical_segment      0\n",
       "max_temp            131\n",
       "max_memory_speed     96\n",
       "sku                   0\n",
       "dtype: int64"
      ]
     },
     "execution_count": 38,
     "metadata": {},
     "output_type": "execute_result"
    }
   ],
   "source": [
    "amd.isnull().sum()"
   ]
  },
  {
   "cell_type": "code",
   "execution_count": 51,
   "id": "140d6094",
   "metadata": {},
   "outputs": [
    {
     "data": {
      "text/plain": [
       "<AxesSubplot:>"
      ]
     },
     "execution_count": 51,
     "metadata": {},
     "output_type": "execute_result"
    },
    {
     "data": {
      "image/png": "[encoded data removed]",
      "text/plain": [
       "<Figure size 1080x576 with 2 Axes>"
      ]
     },
     "metadata": {},
     "output_type": "display_data"
    }
   ],
   "source": [
    "# Heat map for null for amd\n",
    "sns.set({\"figure.figsize\" : (15,8)})\n",
    "sns.heatmap(amd.isnull() , cbar = True , cmap = 'viridis' , yticklabels = False)"
   ]
  },
  {
   "cell_type": "code",
   "execution_count": 53,
   "id": "b212ac86",
   "metadata": {},
   "outputs": [
    {
     "data": {
      "text/plain": [
       "id                                  0\n",
       "cores                               0\n",
       "threads                             4\n",
       "name                                0\n",
       "processor_number                    0\n",
       "launch_date                         0\n",
       "lithography                         9\n",
       "bus_speed                         385\n",
       "base_frequency                     43\n",
       "turbo_frequency                   227\n",
       "configurable_tdp_up_frequency    1000\n",
       "cache_size                          0\n",
       "tdp                                54\n",
       "configurable_tdp_up               996\n",
       "price                             259\n",
       "product_line                        0\n",
       "socket                             52\n",
       "memory_type                         4\n",
       "url                                 0\n",
       "vertical_segment                    0\n",
       "max_memory_size                     6\n",
       "status                              0\n",
       "max_temp                          101\n",
       "sku                                 0\n",
       "package_size                       50\n",
       "fullname                            0\n",
       "dtype: int64"
      ]
     },
     "execution_count": 53,
     "metadata": {},
     "output_type": "execute_result"
    }
   ],
   "source": [
    "## Checking the null for intel.\n",
    "intel.isnull().sum()"
   ]
  },
  {
   "cell_type": "code",
   "execution_count": 57,
   "id": "fdb1fdf7",
   "metadata": {},
   "outputs": [
    {
     "data": {
      "text/plain": [
       "id                               False\n",
       "cores                            False\n",
       "threads                           True\n",
       "name                             False\n",
       "processor_number                 False\n",
       "launch_date                      False\n",
       "lithography                       True\n",
       "bus_speed                         True\n",
       "base_frequency                    True\n",
       "turbo_frequency                   True\n",
       "configurable_tdp_up_frequency     True\n",
       "cache_size                       False\n",
       "tdp                               True\n",
       "configurable_tdp_up               True\n",
       "price                             True\n",
       "product_line                     False\n",
       "socket                            True\n",
       "memory_type                       True\n",
       "url                              False\n",
       "vertical_segment                 False\n",
       "max_memory_size                   True\n",
       "status                           False\n",
       "max_temp                          True\n",
       "sku                              False\n",
       "package_size                      True\n",
       "fullname                         False\n",
       "dtype: bool"
      ]
     },
     "execution_count": 57,
     "metadata": {},
     "output_type": "execute_result"
    }
   ],
   "source": [
    "intel.isnull().any()"
   ]
  },
  {
   "cell_type": "code",
   "execution_count": 66,
   "id": "941a4dbf",
   "metadata": {},
   "outputs": [
    {
     "data": {
      "text/plain": [
       "<AxesSubplot:>"
      ]
     },
     "execution_count": 66,
     "metadata": {},
     "output_type": "execute_result"
    },
    {
     "data": {
      "image/png": "[encoded data removed]",
      "text/plain": [
       "<Figure size 1080x360 with 2 Axes>"
      ]
     },
     "metadata": {},
     "output_type": "display_data"
    }
   ],
   "source": [
    "sns.set({'figure.figsize' : (15,5)})\n",
    "sns.heatmap(intel.isnull() , cmap = 'viridis' , cbar = True , yticklabels = False)"
   ]
  },
  {
   "cell_type": "code",
   "execution_count": 67,
   "id": "70342353",
   "metadata": {},
   "outputs": [
    {
     "data": {
      "text/plain": [
       "id              0\n",
       "manufacturer    0\n",
       "sku             0\n",
       "rating          0\n",
       "url             0\n",
       "dtype: int64"
      ]
     },
     "execution_count": 67,
     "metadata": {},
     "output_type": "execute_result"
    }
   ],
   "source": [
    "cpubench.isnull().sum()"
   ]
  },
  {
   "cell_type": "code",
   "execution_count": 68,
   "id": "70a1cb7e",
   "metadata": {},
   "outputs": [
    {
     "data": {
      "text/plain": [
       "<AxesSubplot:>"
      ]
     },
     "execution_count": 68,
     "metadata": {},
     "output_type": "execute_result"
    },
    {
     "data": {
      "image/png": "[encoded data removed]",
      "text/plain": [
       "<Figure size 1080x360 with 2 Axes>"
      ]
     },
     "metadata": {},
     "output_type": "display_data"
    }
   ],
   "source": [
    "sns.set({'figure.figsize' : (15,5)})\n",
    "sns.heatmap(cpubench.isnull() , cmap = 'viridis' , cbar = True , yticklabels = False)"
   ]
  },
  {
   "cell_type": "markdown",
   "id": "0737c5dc",
   "metadata": {},
   "source": [
    "#### CPU bench has no null values"
   ]
  },
  {
   "cell_type": "code",
   "execution_count": 71,
   "id": "6abd8db1",
   "metadata": {},
   "outputs": [
    {
     "data": {
      "text/plain": [
       "id                  538\n",
       "cores                13\n",
       "threads              15\n",
       "name                525\n",
       "launch_date          36\n",
       "lithography           7\n",
       "base_frequency       48\n",
       "turbo_frequency      36\n",
       "cache_l1             24\n",
       "cache_l2             11\n",
       "cache_l3             10\n",
       "tdp                  35\n",
       "product_line        127\n",
       "socket               25\n",
       "memory_type           9\n",
       "url                 538\n",
       "vertical_segment      6\n",
       "max_temp             31\n",
       "max_memory_speed     19\n",
       "sku                 538\n",
       "dtype: int64"
      ]
     },
     "execution_count": 71,
     "metadata": {},
     "output_type": "execute_result"
    }
   ],
   "source": [
    "amd.nunique().T"
   ]
  },
  {
   "cell_type": "code",
   "execution_count": 72,
   "id": "34c6e23f",
   "metadata": {},
   "outputs": [
    {
     "data": {
      "text/plain": [
       "id                               1098\n",
       "cores                              18\n",
       "threads                            20\n",
       "name                             1090\n",
       "processor_number                 1087\n",
       "launch_date                        40\n",
       "lithography                         4\n",
       "bus_speed                           6\n",
       "base_frequency                     46\n",
       "turbo_frequency                    38\n",
       "configurable_tdp_up_frequency      24\n",
       "cache_size                         43\n",
       "tdp                                96\n",
       "configurable_tdp_up                 9\n",
       "price                             322\n",
       "product_line                       42\n",
       "socket                             36\n",
       "memory_type                        77\n",
       "url                              1098\n",
       "vertical_segment                    5\n",
       "max_memory_size                    20\n",
       "status                              3\n",
       "max_temp                           52\n",
       "sku                              1098\n",
       "package_size                       48\n",
       "fullname                         1098\n",
       "dtype: int64"
      ]
     },
     "execution_count": 72,
     "metadata": {},
     "output_type": "execute_result"
    }
   ],
   "source": [
    "intel.nunique()"
   ]
  },
  {
   "cell_type": "code",
   "execution_count": 73,
   "id": "e93c415a",
   "metadata": {},
   "outputs": [
    {
     "data": {
      "text/plain": [
       "id              1667\n",
       "manufacturer       2\n",
       "sku             1667\n",
       "rating          1584\n",
       "url             1667\n",
       "dtype: int64"
      ]
     },
     "execution_count": 73,
     "metadata": {},
     "output_type": "execute_result"
    }
   ],
   "source": [
    "cpubench.nunique()"
   ]
  },
  {
   "cell_type": "code",
   "execution_count": 75,
   "id": "22549295",
   "metadata": {},
   "outputs": [
    {
     "data": {
      "text/plain": [
       "id                  538\n",
       "cores               533\n",
       "threads             478\n",
       "name                538\n",
       "launch_date         185\n",
       "lithography         440\n",
       "base_frequency      538\n",
       "turbo_frequency     457\n",
       "cache_l1            285\n",
       "cache_l2            476\n",
       "cache_l3            331\n",
       "tdp                 523\n",
       "product_line        538\n",
       "socket              520\n",
       "memory_type         503\n",
       "url                 538\n",
       "vertical_segment    538\n",
       "max_temp            407\n",
       "max_memory_speed    442\n",
       "sku                 538\n",
       "dtype: int64"
      ]
     },
     "execution_count": 75,
     "metadata": {},
     "output_type": "execute_result"
    }
   ],
   "source": [
    "amd.count()"
   ]
  },
  {
   "cell_type": "code",
   "execution_count": 76,
   "id": "2a6d9245",
   "metadata": {},
   "outputs": [
    {
     "data": {
      "text/plain": [
       "id                               1098\n",
       "cores                            1098\n",
       "threads                          1094\n",
       "name                             1098\n",
       "processor_number                 1098\n",
       "launch_date                      1098\n",
       "lithography                      1089\n",
       "bus_speed                         713\n",
       "base_frequency                   1055\n",
       "turbo_frequency                   871\n",
       "configurable_tdp_up_frequency      98\n",
       "cache_size                       1098\n",
       "tdp                              1044\n",
       "configurable_tdp_up               102\n",
       "price                             839\n",
       "product_line                     1098\n",
       "socket                           1046\n",
       "memory_type                      1094\n",
       "url                              1098\n",
       "vertical_segment                 1098\n",
       "max_memory_size                  1092\n",
       "status                           1098\n",
       "max_temp                          997\n",
       "sku                              1098\n",
       "package_size                     1048\n",
       "fullname                         1098\n",
       "dtype: int64"
      ]
     },
     "execution_count": 76,
     "metadata": {},
     "output_type": "execute_result"
    }
   ],
   "source": [
    "intel.count()"
   ]
  },
  {
   "cell_type": "code",
   "execution_count": 77,
   "id": "1588bea3",
   "metadata": {},
   "outputs": [
    {
     "data": {
      "text/plain": [
       "id              1667\n",
       "manufacturer    1667\n",
       "sku             1667\n",
       "rating          1667\n",
       "url             1667\n",
       "dtype: int64"
      ]
     },
     "execution_count": 77,
     "metadata": {},
     "output_type": "execute_result"
    }
   ],
   "source": [
    "cpubench.count()"
   ]
  },
  {
   "cell_type": "code",
   "execution_count": 78,
   "id": "e02e4c23",
   "metadata": {},
   "outputs": [
    {
     "data": {
      "text/plain": [
       "array([16., 12.,  8.,  6., 64., 32., 24.,  4.,  2., 56., 48., 28., nan,\n",
       "        3.])"
      ]
     },
     "execution_count": 78,
     "metadata": {},
     "output_type": "execute_result"
    }
   ],
   "source": [
    "amd.cores.unique()\n",
    "# Getting the unique values of core."
   ]
  },
  {
   "cell_type": "code",
   "execution_count": 79,
   "id": "f131f1bc",
   "metadata": {},
   "outputs": [
    {
     "data": {
      "text/plain": [
       "array([3400, 3700, 3000, 3800, 3900, 2700, 3500, 4000, 2900, 3300, 3200,\n",
       "       2800, 1900, 1800, 3100, 2300, 2100, 2600, 3600, 2000, 2200, 2400,\n",
       "       1400, 1200, 2500, 1700, 1600,  200, 4100, 2450, 2950, 2750, 2850,\n",
       "       2650, 2250, 2350, 1550, 1500, 4700, 4400, 4200,   56, 2050, 1300,\n",
       "       1450, 1650, 1350, 1000], dtype=int64)"
      ]
     },
     "execution_count": 79,
     "metadata": {},
     "output_type": "execute_result"
    }
   ],
   "source": [
    "amd.base_frequency.unique()"
   ]
  },
  {
   "cell_type": "code",
   "execution_count": 80,
   "id": "bb17f93e",
   "metadata": {},
   "outputs": [
    {
     "data": {
      "text/plain": [
       "array([4900., 4800., 4700., 4600., 4500., 4200., 4300., 4400., 4000.,\n",
       "       3800., 3900., 4100., 3700., 3500.,   nan, 3300., 3200., 2800.,\n",
       "       2600., 2300., 3400., 3600., 2900., 3100., 2700., 2500., 2400.,\n",
       "       2200., 3000., 3675., 3650., 3450., 3350., 5000., 2000., 1800.,\n",
       "       1500.])"
      ]
     },
     "execution_count": 80,
     "metadata": {},
     "output_type": "execute_result"
    }
   ],
   "source": [
    "amd.turbo_frequency.unique()"
   ]
  },
  {
   "cell_type": "code",
   "execution_count": 81,
   "id": "979b1bb2",
   "metadata": {},
   "outputs": [
    {
     "data": {
      "text/plain": [
       "array(['DDR4', 'DDR4 - Up to 3200MHz, LPDDR4 - Up to 4266MHz', 'LPDDR4',\n",
       "       nan, 'DDR4, LPDDR4', 'DDR3', 'DDR3/DDR3L', 'Not Listed', 'DDR3L',\n",
       "       'DDR2'], dtype=object)"
      ]
     },
     "execution_count": 81,
     "metadata": {},
     "output_type": "execute_result"
    }
   ],
   "source": [
    "amd.memory_type.unique()"
   ]
  },
  {
   "cell_type": "code",
   "execution_count": 82,
   "id": "f8ec2418",
   "metadata": {},
   "outputs": [
    {
     "data": {
      "text/plain": [
       "array([3200.,   nan, 2400., 4267., 2933., 2667., 1600., 2133., 1866.,\n",
       "        186., 2666., 1333., 1865., 1599.,  800., 2000., 1800., 2200.,\n",
       "       1400.,  667.])"
      ]
     },
     "execution_count": 82,
     "metadata": {},
     "output_type": "execute_result"
    }
   ],
   "source": [
    "amd.max_memory_speed.unique()"
   ]
  },
  {
   "cell_type": "code",
   "execution_count": 83,
   "id": "801a9531",
   "metadata": {},
   "outputs": [
    {
     "data": {
      "text/plain": [
       "array(['https://www.amd.com/en/product/10456',\n",
       "       'https://www.amd.com/en/product/10461',\n",
       "       'https://www.amd.com/en/product/10796',\n",
       "       'https://www.amd.com/en/product/10466',\n",
       "       'https://www.amd.com/en/product/10791',\n",
       "       'https://www.amd.com/en/product/10471',\n",
       "       'https://www.amd.com/en/product/9931',\n",
       "       'https://www.amd.com/en/product/9941',\n",
       "       'https://www.amd.com/en/product/9936',\n",
       "       'https://www.amd.com/en/product/10181',\n",
       "       'https://www.amd.com/en/product/10176',\n",
       "       'https://www.amd.com/en/product/10186',\n",
       "       'https://www.amd.com/en/product/10191',\n",
       "       'https://www.amd.com/en/product/9111',\n",
       "       'https://www.amd.com/en/product/10801',\n",
       "       'https://www.amd.com/en/product/10806',\n",
       "       'https://www.amd.com/en/product/8941',\n",
       "       'https://www.amd.com/en/product/10811',\n",
       "       'https://www.amd.com/en/product/10816',\n",
       "       'https://www.amd.com/en/product/8946',\n",
       "       'https://www.amd.com/en/product/10821',\n",
       "       'https://www.amd.com/en/product/10826',\n",
       "       'https://www.amd.com/en/product/10831',\n",
       "       'https://www.amd.com/en/product/8486',\n",
       "       'https://www.amd.com/en/product/10836',\n",
       "       'https://www.amd.com/en/product/10841',\n",
       "       'https://www.amd.com/en/product/8436',\n",
       "       'https://www.amd.com/en/product/10846',\n",
       "       'https://www.amd.com/en/product/8931',\n",
       "       'https://www.amd.com/en/product/10851',\n",
       "       'https://www.amd.com/en/product/10856',\n",
       "       'https://www.amd.com/en/product/8441',\n",
       "       'https://www.amd.com/en/product/10866',\n",
       "       'https://www.amd.com/en/product/10861',\n",
       "       'https://www.amd.com/en/product/8446',\n",
       "       'https://www.amd.com/en/product/11171',\n",
       "       'https://www.amd.com/en/product/11186',\n",
       "       'https://www.amd.com/en/product/8451',\n",
       "       'https://www.amd.com/en/product/11176',\n",
       "       'https://www.amd.com/en/product/11191',\n",
       "       'https://www.amd.com/en/product/8456',\n",
       "       'https://www.amd.com/en/product/11181',\n",
       "       'https://www.amd.com/en/product/11196',\n",
       "       'https://www.amd.com/en/product/9671',\n",
       "       'https://www.amd.com/en/product/10196',\n",
       "       'https://www.amd.com/en/product/9676',\n",
       "       'https://www.amd.com/en/product/10201',\n",
       "       'https://www.amd.com/en/product/8981',\n",
       "       'https://www.amd.com/en/product/10206',\n",
       "       'https://www.amd.com/en/product/10211',\n",
       "       'https://www.amd.com/en/product/10216',\n",
       "       'https://www.amd.com/en/product/10221',\n",
       "       'https://www.amd.com/en/product/9651',\n",
       "       'https://www.amd.com/en/product/9206',\n",
       "       'https://www.amd.com/en/product/10511',\n",
       "       'https://www.amd.com/en/product/9081',\n",
       "       'https://www.amd.com/en/product/9086',\n",
       "       'https://www.amd.com/en/product/9091',\n",
       "       'https://www.amd.com/en/product/9096',\n",
       "       'https://www.amd.com/en/product/9116',\n",
       "       'https://www.amd.com/en/product/9101',\n",
       "       'https://www.amd.com/en/product/9106',\n",
       "       'https://www.amd.com/en/product/9051',\n",
       "       'https://www.amd.com/en/product/8476',\n",
       "       'https://www.amd.com/en/product/11286',\n",
       "       'https://www.amd.com/en/product/11291',\n",
       "       'https://www.amd.com/en/product/8991',\n",
       "       'https://www.amd.com/en/product/8921',\n",
       "       'https://www.amd.com/en/product/8481',\n",
       "       'https://www.amd.com/en/product/8996',\n",
       "       'https://www.amd.com/en/product/10136',\n",
       "       'https://www.amd.com/en/product/8986',\n",
       "       'https://www.amd.com/en/product/8371',\n",
       "       'https://www.amd.com/en/product/8376',\n",
       "       'https://www.amd.com/en/product/8336',\n",
       "       'https://www.amd.com/en/product/8341',\n",
       "       'https://www.amd.com/en/product/10876',\n",
       "       'https://www.amd.com/en/product/10531',\n",
       "       'https://www.amd.com/en/product/8346',\n",
       "       'https://www.amd.com/en/product/8916',\n",
       "       'https://www.amd.com/en/product/10481',\n",
       "       'https://www.amd.com/en/product/8351',\n",
       "       'https://www.amd.com/en/product/10486',\n",
       "       'https://www.amd.com/en/product/9061',\n",
       "       'https://www.amd.com/en/product/9066',\n",
       "       'https://www.amd.com/en/product/8356',\n",
       "       'https://www.amd.com/en/product/9056',\n",
       "       'https://www.amd.com/en/product/9896',\n",
       "       'https://www.amd.com/en/product/9076',\n",
       "       'https://www.amd.com/en/product/9071',\n",
       "       'https://www.amd.com/en/product/10231',\n",
       "       'https://www.amd.com/en/product/9901',\n",
       "       'https://www.amd.com/en/product/10226',\n",
       "       'https://www.amd.com/en/product/10166',\n",
       "       'https://www.amd.com/en/product/10236',\n",
       "       'https://www.amd.com/en/product/11201',\n",
       "       'https://www.amd.com/en/product/7921',\n",
       "       'https://www.amd.com/en/product/7936',\n",
       "       'https://www.amd.com/en/product/7926',\n",
       "       'https://www.amd.com/en/product/7941',\n",
       "       'https://www.amd.com/en/product/7656',\n",
       "       'https://www.amd.com/en/product/7661',\n",
       "       'https://www.amd.com/en/product/8266',\n",
       "       'https://www.amd.com/en/product/7671',\n",
       "       'https://www.amd.com/en/product/7666',\n",
       "       'https://www.amd.com/en/product/8261',\n",
       "       'https://www.amd.com/en/product/8216',\n",
       "       'https://www.amd.com/en/product/7221',\n",
       "       'https://www.amd.com/en/product/7651',\n",
       "       'https://www.amd.com/en/product/8221',\n",
       "       'https://www.amd.com/en/product/7226',\n",
       "       'https://www.amd.com/en/product/7646',\n",
       "       'https://www.amd.com/en/product/8251',\n",
       "       'https://www.amd.com/en/product/8256',\n",
       "       'https://www.amd.com/en/product/5306',\n",
       "       'https://www.amd.com/en/product/5311',\n",
       "       'https://www.amd.com/en/product/7236',\n",
       "       'https://www.amd.com/en/product/7231',\n",
       "       'https://www.amd.com/en/product/2066',\n",
       "       'https://www.amd.com/en/product/2061',\n",
       "       'https://www.amd.com/en/product/3011',\n",
       "       'https://www.amd.com/en/product/1221',\n",
       "       'https://www.amd.com/en/product/11241',\n",
       "       'https://www.amd.com/en/product/11236',\n",
       "       'https://www.amd.com/en/product/1226',\n",
       "       'https://www.amd.com/en/product/8861',\n",
       "       'https://www.amd.com/en/product/8871',\n",
       "       'https://www.amd.com/en/product/1216',\n",
       "       'https://www.amd.com/en/product/11011',\n",
       "       'https://www.amd.com/en/product/11231',\n",
       "       'https://www.amd.com/en/product/11006',\n",
       "       'https://www.amd.com/en/product/11016',\n",
       "       'https://www.amd.com/en/product/11226',\n",
       "       'https://www.amd.com/en/product/11246',\n",
       "       'https://www.amd.com/en/product/10241',\n",
       "       'https://www.amd.com/en/product/10256',\n",
       "       'https://www.amd.com/en/product/8866',\n",
       "       'https://www.amd.com/en/product/1246',\n",
       "       'https://www.amd.com/en/product/11251',\n",
       "       'https://www.amd.com/en/product/10246',\n",
       "       'https://www.amd.com/en/product/10261',\n",
       "       'https://www.amd.com/en/product/10251',\n",
       "       'https://www.amd.com/en/product/10266',\n",
       "       'https://www.amd.com/en/product/1241',\n",
       "       'https://www.amd.com/en/product/9121',\n",
       "       'https://www.amd.com/en/product/8876',\n",
       "       'https://www.amd.com/en/product/1236',\n",
       "       'https://www.amd.com/en/product/8886',\n",
       "       'https://www.amd.com/en/product/10271',\n",
       "       'https://www.amd.com/en/product/10276',\n",
       "       'https://www.amd.com/en/product/1231',\n",
       "       'https://www.amd.com/en/product/8881',\n",
       "       'https://www.amd.com/en/product/8891',\n",
       "       'https://www.amd.com/en/product/2041',\n",
       "       'https://www.amd.com/en/product/10281',\n",
       "       'https://www.amd.com/en/product/10286',\n",
       "       'https://www.amd.com/en/product/10291',\n",
       "       'https://www.amd.com/en/product/8896',\n",
       "       'https://www.amd.com/en/product/2046',\n",
       "       'https://www.amd.com/en/product/8236',\n",
       "       'https://www.amd.com/en/product/8241',\n",
       "       'https://www.amd.com/en/product/9686',\n",
       "       'https://www.amd.com/en/product/9691',\n",
       "       'https://www.amd.com/en/product/9696',\n",
       "       'https://www.amd.com/en/product/2011',\n",
       "       'https://www.amd.com/en/product/8416',\n",
       "       'https://www.amd.com/en/product/8411',\n",
       "       'https://www.amd.com/en/product/2016',\n",
       "       'https://www.amd.com/en/product/8246',\n",
       "       'https://www.amd.com/en/product/10896',\n",
       "       'https://www.amd.com/en/product/8406',\n",
       "       'https://www.amd.com/en/product/10901',\n",
       "       'https://www.amd.com/en/product/2021',\n",
       "       'https://www.amd.com/en/product/8421',\n",
       "       'https://www.amd.com/en/product/7206',\n",
       "       'https://www.amd.com/en/product/2026',\n",
       "       'https://www.amd.com/en/product/7771',\n",
       "       'https://www.amd.com/en/product/7786',\n",
       "       'https://www.amd.com/en/product/2031',\n",
       "       'https://www.amd.com/en/product/7211',\n",
       "       'https://www.amd.com/en/product/7776',\n",
       "       'https://www.amd.com/en/product/7781',\n",
       "       'https://www.amd.com/en/product/2036',\n",
       "       'https://www.amd.com/en/product/7216',\n",
       "       'https://www.amd.com/en/product/9436',\n",
       "       'https://www.amd.com/en/product/7491',\n",
       "       'https://www.amd.com/en/product/9431',\n",
       "       'https://www.amd.com/en/product/7496',\n",
       "       'https://www.amd.com/en/product/2121',\n",
       "       'https://www.amd.com/en/product/2116',\n",
       "       'https://www.amd.com/en/product/2111',\n",
       "       'https://www.amd.com/en/product/2106',\n",
       "       'https://www.amd.com/en/product/2101',\n",
       "       'https://www.amd.com/en/product/2086',\n",
       "       'https://www.amd.com/en/product/2096',\n",
       "       'https://www.amd.com/en/product/2091',\n",
       "       'https://www.amd.com/en/product/6126',\n",
       "       'https://www.amd.com/en/product/6131',\n",
       "       'https://www.amd.com/en/product/6136',\n",
       "       'https://www.amd.com/en/product/6141',\n",
       "       'https://www.amd.com/en/product/8226',\n",
       "       'https://www.amd.com/en/product/2126',\n",
       "       'https://www.amd.com/en/product/2051',\n",
       "       'https://www.amd.com/en/product/8231',\n",
       "       'https://www.amd.com/en/product/2131',\n",
       "       'https://www.amd.com/en/product/8361',\n",
       "       'https://www.amd.com/en/product/2056',\n",
       "       'https://www.amd.com/en/product/8396',\n",
       "       'https://www.amd.com/en/product/2136',\n",
       "       'https://www.amd.com/en/product/8366',\n",
       "       'https://www.amd.com/en/product/6171',\n",
       "       'https://www.amd.com/en/product/6176',\n",
       "       'https://www.amd.com/en/product/6161',\n",
       "       'https://www.amd.com/en/product/6166',\n",
       "       'https://www.amd.com/en/product/6191',\n",
       "       'https://www.amd.com/en/product/6181',\n",
       "       'https://www.amd.com/en/product/6186',\n",
       "       'https://www.amd.com/en/product/6196',\n",
       "       'https://www.amd.com/en/product/6201',\n",
       "       'https://www.amd.com/en/product/6206',\n",
       "       'https://www.amd.com/en/product/6211',\n",
       "       'https://www.amd.com/en/product/6216',\n",
       "       'https://www.amd.com/en/product/6221',\n",
       "       'https://www.amd.com/en/product/6226',\n",
       "       'https://www.amd.com/en/product/6116',\n",
       "       'https://www.amd.com/en/product/6121',\n",
       "       'https://www.amd.com/en/product/2141',\n",
       "       'https://www.amd.com/en/product/5921',\n",
       "       'https://www.amd.com/en/product/5926',\n",
       "       'https://www.amd.com/en/product/6231',\n",
       "       'https://www.amd.com/en/product/6146',\n",
       "       'https://www.amd.com/en/product/6031',\n",
       "       'https://www.amd.com/en/product/6236',\n",
       "       'https://www.amd.com/en/product/6241',\n",
       "       'https://www.amd.com/en/product/6036',\n",
       "       'https://www.amd.com/en/product/6041',\n",
       "       'https://www.amd.com/en/product/6151',\n",
       "       'https://www.amd.com/en/product/6156',\n",
       "       'https://www.amd.com/en/product/6046',\n",
       "       'https://www.amd.com/en/product/6051',\n",
       "       'https://www.amd.com/en/product/6246',\n",
       "       'https://www.amd.com/en/product/5691',\n",
       "       'https://www.amd.com/en/product/6251',\n",
       "       'https://www.amd.com/en/product/6066',\n",
       "       'https://www.amd.com/en/product/6061',\n",
       "       'https://www.amd.com/en/product/6256',\n",
       "       'https://www.amd.com/en/product/6056',\n",
       "       'https://www.amd.com/en/product/5916',\n",
       "       'https://www.amd.com/en/product/6101',\n",
       "       'https://www.amd.com/en/product/6026',\n",
       "       'https://www.amd.com/en/product/6106',\n",
       "       'https://www.amd.com/en/product/6086',\n",
       "       'https://www.amd.com/en/product/6081',\n",
       "       'https://www.amd.com/en/product/5706',\n",
       "       'https://www.amd.com/en/product/5701',\n",
       "       'https://www.amd.com/en/product/5696',\n",
       "       'https://www.amd.com/en/product/5341',\n",
       "       'https://www.amd.com/en/product/5336',\n",
       "       'https://www.amd.com/en/product/5326',\n",
       "       'https://www.amd.com/en/product/5331',\n",
       "       'https://www.amd.com/en/product/10906',\n",
       "       'https://www.amd.com/en/product/10911',\n",
       "       'https://www.amd.com/en/product/10916',\n",
       "       'https://www.amd.com/en/product/10921',\n",
       "       'https://www.amd.com/en/product/10926',\n",
       "       'https://www.amd.com/en/product/10931',\n",
       "       'https://www.amd.com/en/product/10936',\n",
       "       'https://www.amd.com/en/product/10941',\n",
       "       'https://www.amd.com/en/product/10946',\n",
       "       'https://www.amd.com/en/product/10951',\n",
       "       'https://www.amd.com/en/product/10956',\n",
       "       'https://www.amd.com/en/product/10961',\n",
       "       'https://www.amd.com/en/product/10966',\n",
       "       'https://www.amd.com/en/product/10971',\n",
       "       'https://www.amd.com/en/product/10976',\n",
       "       'https://www.amd.com/en/product/10981',\n",
       "       'https://www.amd.com/en/product/10986',\n",
       "       'https://www.amd.com/en/product/10991',\n",
       "       'https://www.amd.com/en/product/6076',\n",
       "       'https://www.amd.com/en/product/10996',\n",
       "       'https://www.amd.com/en/product/9656',\n",
       "       'https://www.amd.com/en/product/9661',\n",
       "       'https://www.amd.com/en/product/5816',\n",
       "       'https://www.amd.com/en/product/9666',\n",
       "       'https://www.amd.com/en/product/9131',\n",
       "       'https://www.amd.com/en/product/6071',\n",
       "       'https://www.amd.com/en/product/8761',\n",
       "       'https://www.amd.com/en/product/8766',\n",
       "       'https://www.amd.com/en/product/5811',\n",
       "       'https://www.amd.com/en/product/8771',\n",
       "       'https://www.amd.com/en/product/5481',\n",
       "       'https://www.amd.com/en/product/8961',\n",
       "       'https://www.amd.com/en/product/5471',\n",
       "       'https://www.amd.com/en/product/8786',\n",
       "       'https://www.amd.com/en/product/8776',\n",
       "       'https://www.amd.com/en/product/5476',\n",
       "       'https://www.amd.com/en/product/8781',\n",
       "       'https://www.amd.com/en/product/8966',\n",
       "       'https://www.amd.com/en/product/8791',\n",
       "       'https://www.amd.com/en/product/8796',\n",
       "       'https://www.amd.com/en/product/8801',\n",
       "       'https://www.amd.com/en/product/8816',\n",
       "       'https://www.amd.com/en/product/8811',\n",
       "       'https://www.amd.com/en/product/8806',\n",
       "       'https://www.amd.com/en/product/6091',\n",
       "       'https://www.amd.com/en/product/5781',\n",
       "       'https://www.amd.com/en/product/8821',\n",
       "       'https://www.amd.com/en/product/5431',\n",
       "       'https://www.amd.com/en/product/8826',\n",
       "       'https://www.amd.com/en/product/5776',\n",
       "       'https://www.amd.com/en/product/8836',\n",
       "       'https://www.amd.com/en/product/5426',\n",
       "       'https://www.amd.com/en/product/8831',\n",
       "       'https://www.amd.com/en/product/8851',\n",
       "       'https://www.amd.com/en/product/8846',\n",
       "       'https://www.amd.com/en/product/5771',\n",
       "       'https://www.amd.com/en/product/8841',\n",
       "       'https://www.amd.com/en/product/1951',\n",
       "       'https://www.amd.com/en/product/1961',\n",
       "       'https://www.amd.com/en/product/1956',\n",
       "       'https://www.amd.com/en/product/1966',\n",
       "       'https://www.amd.com/en/product/5401',\n",
       "       'https://www.amd.com/en/product/1971',\n",
       "       'https://www.amd.com/en/product/1981',\n",
       "       'https://www.amd.com/en/product/5396',\n",
       "       'https://www.amd.com/en/product/1976',\n",
       "       'https://www.amd.com/en/product/5391',\n",
       "       'https://www.amd.com/en/product/8386',\n",
       "       'https://www.amd.com/en/product/1991',\n",
       "       'https://www.amd.com/en/product/1986',\n",
       "       'https://www.amd.com/en/product/1996',\n",
       "       'https://www.amd.com/en/product/5731',\n",
       "       'https://www.amd.com/en/product/2001',\n",
       "       'https://www.amd.com/en/product/5726',\n",
       "       'https://www.amd.com/en/product/7791',\n",
       "       'https://www.amd.com/en/product/2006',\n",
       "       'https://www.amd.com/en/product/1481',\n",
       "       'https://www.amd.com/en/product/1476',\n",
       "       'https://www.amd.com/en/product/1466',\n",
       "       'https://www.amd.com/en/product/1471',\n",
       "       'https://www.amd.com/en/product/5716',\n",
       "       'https://www.amd.com/en/product/1461',\n",
       "       'https://www.amd.com/en/product/1456',\n",
       "       'https://www.amd.com/en/product/5711',\n",
       "       'https://www.amd.com/en/product/5721',\n",
       "       'https://www.amd.com/en/product/1451',\n",
       "       'https://www.amd.com/en/product/1446',\n",
       "       'https://www.amd.com/en/product/1441',\n",
       "       'https://www.amd.com/en/product/1436',\n",
       "       'https://www.amd.com/en/product/1431',\n",
       "       'https://www.amd.com/en/product/1426',\n",
       "       'https://www.amd.com/en/product/1421',\n",
       "       'https://www.amd.com/en/product/5956',\n",
       "       'https://www.amd.com/en/product/1416',\n",
       "       'https://www.amd.com/en/product/5826',\n",
       "       'https://www.amd.com/en/product/5821',\n",
       "       'https://www.amd.com/en/product/1411',\n",
       "       'https://www.amd.com/en/product/1926',\n",
       "       'https://www.amd.com/en/product/5936',\n",
       "       'https://www.amd.com/en/product/1406',\n",
       "       'https://www.amd.com/en/product/1401',\n",
       "       'https://www.amd.com/en/product/1396',\n",
       "       'https://www.amd.com/en/product/1931',\n",
       "       'https://www.amd.com/en/product/1391',\n",
       "       'https://www.amd.com/en/product/1386',\n",
       "       'https://www.amd.com/en/product/1381',\n",
       "       'https://www.amd.com/en/product/1376',\n",
       "       'https://www.amd.com/en/product/1691',\n",
       "       'https://www.amd.com/en/product/1686',\n",
       "       'https://www.amd.com/en/product/1911',\n",
       "       'https://www.amd.com/en/product/5931',\n",
       "       'https://www.amd.com/en/product/5941',\n",
       "       'https://www.amd.com/en/product/1906',\n",
       "       'https://www.amd.com/en/product/5961',\n",
       "       'https://www.amd.com/en/product/1671',\n",
       "       'https://www.amd.com/en/product/5796',\n",
       "       'https://www.amd.com/en/product/1666',\n",
       "       'https://www.amd.com/en/product/5791',\n",
       "       'https://www.amd.com/en/product/1681',\n",
       "       'https://www.amd.com/en/product/1676',\n",
       "       'https://www.amd.com/en/product/5451',\n",
       "       'https://www.amd.com/en/product/1661',\n",
       "       'https://www.amd.com/en/product/5786',\n",
       "       'https://www.amd.com/en/product/1936',\n",
       "       'https://www.amd.com/en/product/1651',\n",
       "       'https://www.amd.com/en/product/1901',\n",
       "       'https://www.amd.com/en/product/1611',\n",
       "       'https://www.amd.com/en/product/1636',\n",
       "       'https://www.amd.com/en/product/1631',\n",
       "       'https://www.amd.com/en/product/1641',\n",
       "       'https://www.amd.com/en/product/1646',\n",
       "       'https://www.amd.com/en/product/1621',\n",
       "       'https://www.amd.com/en/product/5946',\n",
       "       'https://www.amd.com/en/product/1626',\n",
       "       'https://www.amd.com/en/product/5801',\n",
       "       'https://www.amd.com/en/product/1616',\n",
       "       'https://www.amd.com/en/product/5746',\n",
       "       'https://www.amd.com/en/product/1606',\n",
       "       'https://www.amd.com/en/product/1601',\n",
       "       'https://www.amd.com/en/product/1596',\n",
       "       'https://www.amd.com/en/product/5741',\n",
       "       'https://www.amd.com/en/product/1591',\n",
       "       'https://www.amd.com/en/product/5766',\n",
       "       'https://www.amd.com/en/product/1586',\n",
       "       'https://www.amd.com/en/product/1581',\n",
       "       'https://www.amd.com/en/product/1576',\n",
       "       'https://www.amd.com/en/product/1571',\n",
       "       'https://www.amd.com/en/product/1326',\n",
       "       'https://www.amd.com/en/product/1321',\n",
       "       'https://www.amd.com/en/product/1311',\n",
       "       'https://www.amd.com/en/product/1316',\n",
       "       'https://www.amd.com/en/product/1306',\n",
       "       'https://www.amd.com/en/product/1301',\n",
       "       'https://www.amd.com/en/product/1296',\n",
       "       'https://www.amd.com/en/product/5981',\n",
       "       'https://www.amd.com/en/product/1291',\n",
       "       'https://www.amd.com/en/product/2071',\n",
       "       'https://www.amd.com/en/product/5986',\n",
       "       'https://www.amd.com/en/product/2076',\n",
       "       'https://www.amd.com/en/product/5996',\n",
       "       'https://www.amd.com/en/product/2081',\n",
       "       'https://www.amd.com/en/product/5991',\n",
       "       'https://www.amd.com/en/product/6001',\n",
       "       'https://www.amd.com/en/product/1371',\n",
       "       'https://www.amd.com/en/product/6006',\n",
       "       'https://www.amd.com/en/product/1366',\n",
       "       'https://www.amd.com/en/product/5626',\n",
       "       'https://www.amd.com/en/product/1356',\n",
       "       'https://www.amd.com/en/product/5631',\n",
       "       'https://www.amd.com/en/product/1361',\n",
       "       'https://www.amd.com/en/product/1351',\n",
       "       'https://www.amd.com/en/product/5531',\n",
       "       'https://www.amd.com/en/product/1346',\n",
       "       'https://www.amd.com/en/product/1336',\n",
       "       'https://www.amd.com/en/product/5521',\n",
       "       'https://www.amd.com/en/product/1341',\n",
       "       'https://www.amd.com/en/product/1331',\n",
       "       'https://www.amd.com/en/product/5516',\n",
       "       'https://www.amd.com/en/product/1916',\n",
       "       'https://www.amd.com/en/product/1566',\n",
       "       'https://www.amd.com/en/product/1896',\n",
       "       'https://www.amd.com/en/product/1891',\n",
       "       'https://www.amd.com/en/product/5636',\n",
       "       'https://www.amd.com/en/product/1886',\n",
       "       'https://www.amd.com/en/product/1881',\n",
       "       'https://www.amd.com/en/product/5661',\n",
       "       'https://www.amd.com/en/product/5676',\n",
       "       'https://www.amd.com/en/product/1876',\n",
       "       'https://www.amd.com/en/product/5671',\n",
       "       'https://www.amd.com/en/product/1871',\n",
       "       'https://www.amd.com/en/product/5666',\n",
       "       'https://www.amd.com/en/product/1866',\n",
       "       'https://www.amd.com/en/product/1861',\n",
       "       'https://www.amd.com/en/product/5641',\n",
       "       'https://www.amd.com/en/product/5891',\n",
       "       'https://www.amd.com/en/product/1856',\n",
       "       'https://www.amd.com/en/product/5901',\n",
       "       'https://www.amd.com/en/product/1851',\n",
       "       'https://www.amd.com/en/product/1846',\n",
       "       'https://www.amd.com/en/product/5896',\n",
       "       'https://www.amd.com/en/product/6111',\n",
       "       'https://www.amd.com/en/product/1841',\n",
       "       'https://www.amd.com/en/product/6021',\n",
       "       'https://www.amd.com/en/product/1836',\n",
       "       'https://www.amd.com/en/product/1561',\n",
       "       'https://www.amd.com/en/product/5886',\n",
       "       'https://www.amd.com/en/product/8956',\n",
       "       'https://www.amd.com/en/product/1831',\n",
       "       'https://www.amd.com/en/product/5881',\n",
       "       'https://www.amd.com/en/product/8331',\n",
       "       'https://www.amd.com/en/product/1556',\n",
       "       'https://www.amd.com/en/product/8326',\n",
       "       'https://www.amd.com/en/product/5976',\n",
       "       'https://www.amd.com/en/product/8206',\n",
       "       'https://www.amd.com/en/product/1551',\n",
       "       'https://www.amd.com/en/product/6096',\n",
       "       'https://www.amd.com/en/product/1546',\n",
       "       'https://www.amd.com/en/product/5836',\n",
       "       'https://www.amd.com/en/product/8201',\n",
       "       'https://www.amd.com/en/product/1826',\n",
       "       'https://www.amd.com/en/product/5831',\n",
       "       'https://www.amd.com/en/product/8211',\n",
       "       'https://www.amd.com/en/product/1541',\n",
       "       'https://www.amd.com/en/product/5911',\n",
       "       'https://www.amd.com/en/product/1821',\n",
       "       'https://www.amd.com/en/product/5906',\n",
       "       'https://www.amd.com/en/product/5951',\n",
       "       'https://www.amd.com/en/product/5966',\n",
       "       'https://www.amd.com/en/product/1816',\n",
       "       'https://www.amd.com/en/product/5871',\n",
       "       'https://www.amd.com/en/product/1811',\n",
       "       'https://www.amd.com/en/product/5866',\n",
       "       'https://www.amd.com/en/product/1806',\n",
       "       'https://www.amd.com/en/product/5876',\n",
       "       'https://www.amd.com/en/product/1801',\n",
       "       'https://www.amd.com/en/product/1536',\n",
       "       'https://www.amd.com/en/product/1531',\n",
       "       'https://www.amd.com/en/product/1526',\n",
       "       'https://www.amd.com/en/product/1521',\n",
       "       'https://www.amd.com/en/product/6011',\n",
       "       'https://www.amd.com/en/product/1516',\n",
       "       'https://www.amd.com/en/product/1511',\n",
       "       'https://www.amd.com/en/product/1506',\n",
       "       'https://www.amd.com/en/product/1501',\n",
       "       'https://www.amd.com/en/product/1496',\n",
       "       'https://www.amd.com/en/product/5971',\n",
       "       'https://www.amd.com/en/product/1491',\n",
       "       'https://www.amd.com/en/product/5861',\n",
       "       'https://www.amd.com/en/product/1486',\n",
       "       'https://www.amd.com/en/product/1796',\n",
       "       'https://www.amd.com/en/product/1791',\n",
       "       'https://www.amd.com/en/product/5856',\n",
       "       'https://www.amd.com/en/product/1786',\n",
       "       'https://www.amd.com/en/product/5851',\n",
       "       'https://www.amd.com/en/product/1781',\n",
       "       'https://www.amd.com/en/product/5846',\n",
       "       'https://www.amd.com/en/product/5841',\n",
       "       'https://www.amd.com/en/product/1776',\n",
       "       'https://www.amd.com/en/product/1771',\n",
       "       'https://www.amd.com/en/product/1766',\n",
       "       'https://www.amd.com/en/product/1761',\n",
       "       'https://www.amd.com/en/product/6016',\n",
       "       'https://www.amd.com/en/product/1756',\n",
       "       'https://www.amd.com/en/product/1751',\n",
       "       'https://www.amd.com/en/product/1746',\n",
       "       'https://www.amd.com/en/product/1741',\n",
       "       'https://www.amd.com/en/product/1736',\n",
       "       'https://www.amd.com/en/product/1731',\n",
       "       'https://www.amd.com/en/product/1726',\n",
       "       'https://www.amd.com/en/product/1721',\n",
       "       'https://www.amd.com/en/product/1716',\n",
       "       'https://www.amd.com/en/product/1266',\n",
       "       'https://www.amd.com/en/product/1711',\n",
       "       'https://www.amd.com/en/product/5656',\n",
       "       'https://www.amd.com/en/product/1706',\n",
       "       'https://www.amd.com/en/product/1701',\n",
       "       'https://www.amd.com/en/product/1696',\n",
       "       'https://www.amd.com/en/product/1921'], dtype=object)"
      ]
     },
     "execution_count": 83,
     "metadata": {},
     "output_type": "execute_result"
    }
   ],
   "source": [
    "amd.url.unique()"
   ]
  },
  {
   "cell_type": "code",
   "execution_count": 84,
   "id": "474fb1e0",
   "metadata": {},
   "outputs": [
    {
     "data": {
      "text/plain": [
       "array([  1,   2,   3,   4,   5,   6,   7,   8,   9,  10,  11,  12,  13,\n",
       "        14,  15,  16,  17,  18,  19,  20,  21,  22,  23,  24,  25,  26,\n",
       "        27,  28,  29,  30,  31,  32,  33,  34,  35,  36,  37,  38,  39,\n",
       "        40,  41,  42,  43,  44,  45,  46,  47,  48,  49,  50,  51,  52,\n",
       "        53,  54,  55,  56,  57,  58,  59,  60,  61,  62,  63,  64,  65,\n",
       "        66,  67,  68,  69,  70,  71,  72,  73,  74,  75,  76,  77,  78,\n",
       "        79,  80,  81,  82,  83,  84,  85,  86,  87,  88,  89,  90,  91,\n",
       "        92,  93,  94,  95,  96,  97,  98,  99, 100, 101, 102, 103, 104,\n",
       "       105, 106, 107, 108, 109, 110, 111, 112, 113, 114, 115, 116, 117,\n",
       "       118, 119, 120, 121, 122, 123, 124, 125, 126, 127, 128, 129, 130,\n",
       "       131, 132, 133, 134, 135, 136, 137, 138, 139, 140, 141, 142, 143,\n",
       "       144, 145, 146, 147, 148, 149, 150, 151, 152, 153, 154, 155, 156,\n",
       "       157, 158, 159, 160, 161, 162, 163, 164, 165, 166, 167, 168, 169,\n",
       "       170, 171, 172, 173, 174, 175, 176, 177, 178, 179, 180, 181, 182,\n",
       "       183, 184, 185, 186, 187, 188, 189, 190, 191, 192, 193, 194, 195,\n",
       "       196, 197, 198, 199, 200, 201, 202, 203, 204, 205, 206, 207, 208,\n",
       "       209, 210, 211, 212, 213, 214, 215, 216, 217, 218, 219, 220, 221,\n",
       "       222, 223, 224, 225, 226, 227, 228, 229, 230, 231, 232, 233, 234,\n",
       "       235, 236, 237, 238, 239, 240, 241, 242, 243, 244, 245, 246, 247,\n",
       "       248, 249, 250, 251, 252, 253, 254, 255, 256, 257, 258, 259, 260,\n",
       "       261, 262, 263, 264, 265, 266, 267, 268, 269, 270, 271, 272, 273,\n",
       "       274, 275, 276, 277, 278, 279, 280, 281, 282, 283, 284, 285, 286,\n",
       "       287, 288, 289, 290, 291, 292, 293, 294, 295, 296, 297, 298, 299,\n",
       "       300, 301, 302, 303, 304, 305, 306, 307, 308, 309, 310, 311, 312,\n",
       "       313, 314, 315, 316, 317, 318, 319, 320, 321, 322, 323, 324, 325,\n",
       "       326, 327, 328, 329, 330, 331, 332, 333, 334, 335, 336, 337, 338,\n",
       "       339, 340, 341, 342, 343, 344, 345, 346, 347, 348, 349, 350, 351,\n",
       "       352, 353, 354, 355, 356, 357, 358, 359, 360, 361, 362, 363, 364,\n",
       "       365, 366, 367, 368, 369, 370, 371, 372, 373, 374, 375, 376, 377,\n",
       "       378, 379, 380, 381, 382, 383, 384, 385, 386, 387, 388, 389, 390,\n",
       "       391, 392, 393, 394, 395, 396, 397, 398, 399, 400, 401, 402, 403,\n",
       "       404, 405, 406, 407, 408, 409, 410, 411, 412, 413, 414, 415, 416,\n",
       "       417, 418, 419, 420, 421, 422, 423, 424, 425, 426, 427, 428, 429,\n",
       "       430, 431, 432, 433, 434, 435, 436, 437, 438, 439, 440, 441, 442,\n",
       "       443, 444, 445, 446, 447, 448, 449, 450, 451, 452, 453, 454, 455,\n",
       "       456, 457, 458, 459, 460, 461, 462, 463, 464, 465, 466, 467, 468,\n",
       "       469, 470, 471, 472, 473, 474, 475, 476, 477, 478, 479, 480, 481,\n",
       "       482, 483, 484, 485, 486, 487, 488, 489, 490, 491, 492, 493, 494,\n",
       "       495, 496, 497, 498, 499, 500, 501, 502, 503, 504, 505, 506, 507,\n",
       "       508, 509, 510, 511, 512, 513, 514, 515, 516, 517, 518, 519, 520,\n",
       "       521, 522, 523, 524, 525, 526, 527, 528, 529, 530, 531, 532, 533,\n",
       "       534, 535, 536, 537, 538], dtype=int64)"
      ]
     },
     "execution_count": 84,
     "metadata": {},
     "output_type": "execute_result"
    }
   ],
   "source": [
    "amd.id.unique()"
   ]
  },
  {
   "cell_type": "code",
   "execution_count": 120,
   "id": "fd953973",
   "metadata": {},
   "outputs": [
    {
     "data": {
      "text/html": [
       "<div>\n",
       "<style scoped>\n",
       "    .dataframe tbody tr th:only-of-type {\n",
       "        vertical-align: middle;\n",
       "    }\n",
       "\n",
       "    .dataframe tbody tr th {\n",
       "        vertical-align: top;\n",
       "    }\n",
       "\n",
       "    .dataframe thead th {\n",
       "        text-align: right;\n",
       "    }\n",
       "</style>\n",
       "<table border=\"1\" class=\"dataframe\">\n",
       "  <thead>\n",
       "    <tr style=\"text-align: right;\">\n",
       "      <th></th>\n",
       "      <th>cores</th>\n",
       "      <th>threads</th>\n",
       "      <th>name</th>\n",
       "      <th>launch_date</th>\n",
       "      <th>lithography</th>\n",
       "      <th>base_frequency</th>\n",
       "      <th>turbo_frequency</th>\n",
       "      <th>cache_l1</th>\n",
       "      <th>cache_l2</th>\n",
       "      <th>cache_l3</th>\n",
       "      <th>tdp</th>\n",
       "      <th>product_line</th>\n",
       "      <th>socket</th>\n",
       "      <th>memory_type</th>\n",
       "      <th>vertical_segment</th>\n",
       "      <th>max_temp</th>\n",
       "      <th>max_memory_speed</th>\n",
       "      <th>sku</th>\n",
       "    </tr>\n",
       "  </thead>\n",
       "  <tbody>\n",
       "    <tr>\n",
       "      <th>0</th>\n",
       "      <td>16.0</td>\n",
       "      <td>32.0</td>\n",
       "      <td>AMD Ryzen 9 5950X</td>\n",
       "      <td>2020-11-05</td>\n",
       "      <td>7.0</td>\n",
       "      <td>3400</td>\n",
       "      <td>4900.0</td>\n",
       "      <td>NaN</td>\n",
       "      <td>8192.0</td>\n",
       "      <td>65536.0</td>\n",
       "      <td>105.0</td>\n",
       "      <td>AMD Ryzen 9 Desktop Processors</td>\n",
       "      <td>AM4</td>\n",
       "      <td>DDR4</td>\n",
       "      <td>Boxed Processor</td>\n",
       "      <td>90.0</td>\n",
       "      <td>3200.0</td>\n",
       "      <td>10456</td>\n",
       "    </tr>\n",
       "    <tr>\n",
       "      <th>1</th>\n",
       "      <td>12.0</td>\n",
       "      <td>24.0</td>\n",
       "      <td>AMD Ryzen 9 5900X</td>\n",
       "      <td>2020-11-05</td>\n",
       "      <td>7.0</td>\n",
       "      <td>3700</td>\n",
       "      <td>4800.0</td>\n",
       "      <td>NaN</td>\n",
       "      <td>6144.0</td>\n",
       "      <td>65536.0</td>\n",
       "      <td>105.0</td>\n",
       "      <td>AMD Ryzen 9 Desktop Processors</td>\n",
       "      <td>AM4</td>\n",
       "      <td>DDR4</td>\n",
       "      <td>Boxed Processor</td>\n",
       "      <td>90.0</td>\n",
       "      <td>3200.0</td>\n",
       "      <td>10461</td>\n",
       "    </tr>\n",
       "    <tr>\n",
       "      <th>2</th>\n",
       "      <td>12.0</td>\n",
       "      <td>24.0</td>\n",
       "      <td>AMD Ryzen 9 5900 (OEM Only)</td>\n",
       "      <td>2021-01-12</td>\n",
       "      <td>7.0</td>\n",
       "      <td>3000</td>\n",
       "      <td>4700.0</td>\n",
       "      <td>NaN</td>\n",
       "      <td>6144.0</td>\n",
       "      <td>65536.0</td>\n",
       "      <td>65.0</td>\n",
       "      <td>AMD Ryzen 9 Desktop Processors</td>\n",
       "      <td>AM4</td>\n",
       "      <td>DDR4</td>\n",
       "      <td>Desktop</td>\n",
       "      <td>95.0</td>\n",
       "      <td>3200.0</td>\n",
       "      <td>10796</td>\n",
       "    </tr>\n",
       "    <tr>\n",
       "      <th>3</th>\n",
       "      <td>8.0</td>\n",
       "      <td>16.0</td>\n",
       "      <td>AMD Ryzen 7 5800X</td>\n",
       "      <td>2020-11-05</td>\n",
       "      <td>7.0</td>\n",
       "      <td>3800</td>\n",
       "      <td>4700.0</td>\n",
       "      <td>NaN</td>\n",
       "      <td>4096.0</td>\n",
       "      <td>32768.0</td>\n",
       "      <td>105.0</td>\n",
       "      <td>AMD Ryzen 7 Desktop Processors</td>\n",
       "      <td>AM4</td>\n",
       "      <td>DDR4</td>\n",
       "      <td>Boxed Processor</td>\n",
       "      <td>90.0</td>\n",
       "      <td>3200.0</td>\n",
       "      <td>10466</td>\n",
       "    </tr>\n",
       "    <tr>\n",
       "      <th>4</th>\n",
       "      <td>8.0</td>\n",
       "      <td>16.0</td>\n",
       "      <td>AMD Ryzen 7 5800 (OEM Only)</td>\n",
       "      <td>2021-01-12</td>\n",
       "      <td>7.0</td>\n",
       "      <td>3400</td>\n",
       "      <td>4600.0</td>\n",
       "      <td>NaN</td>\n",
       "      <td>4096.0</td>\n",
       "      <td>32768.0</td>\n",
       "      <td>65.0</td>\n",
       "      <td>AMD Ryzen 7 Desktop Processors</td>\n",
       "      <td>AM4</td>\n",
       "      <td>DDR4</td>\n",
       "      <td>Desktop</td>\n",
       "      <td>95.0</td>\n",
       "      <td>3200.0</td>\n",
       "      <td>10791</td>\n",
       "    </tr>\n",
       "  </tbody>\n",
       "</table>\n",
       "</div>"
      ],
      "text/plain": [
       "   cores  threads                         name launch_date  lithography  \\\n",
       "0   16.0     32.0            AMD Ryzen 9 5950X  2020-11-05          7.0   \n",
       "1   12.0     24.0            AMD Ryzen 9 5900X  2020-11-05          7.0   \n",
       "2   12.0     24.0  AMD Ryzen 9 5900 (OEM Only)  2021-01-12          7.0   \n",
       "3    8.0     16.0            AMD Ryzen 7 5800X  2020-11-05          7.0   \n",
       "4    8.0     16.0  AMD Ryzen 7 5800 (OEM Only)  2021-01-12          7.0   \n",
       "\n",
       "   base_frequency  turbo_frequency  cache_l1  cache_l2  cache_l3    tdp  \\\n",
       "0            3400           4900.0       NaN    8192.0   65536.0  105.0   \n",
       "1            3700           4800.0       NaN    6144.0   65536.0  105.0   \n",
       "2            3000           4700.0       NaN    6144.0   65536.0   65.0   \n",
       "3            3800           4700.0       NaN    4096.0   32768.0  105.0   \n",
       "4            3400           4600.0       NaN    4096.0   32768.0   65.0   \n",
       "\n",
       "                     product_line socket memory_type vertical_segment  \\\n",
       "0  AMD Ryzen 9 Desktop Processors    AM4        DDR4  Boxed Processor   \n",
       "1  AMD Ryzen 9 Desktop Processors    AM4        DDR4  Boxed Processor   \n",
       "2  AMD Ryzen 9 Desktop Processors    AM4        DDR4          Desktop   \n",
       "3  AMD Ryzen 7 Desktop Processors    AM4        DDR4  Boxed Processor   \n",
       "4  AMD Ryzen 7 Desktop Processors    AM4        DDR4          Desktop   \n",
       "\n",
       "   max_temp  max_memory_speed    sku  \n",
       "0      90.0            3200.0  10456  \n",
       "1      90.0            3200.0  10461  \n",
       "2      95.0            3200.0  10796  \n",
       "3      90.0            3200.0  10466  \n",
       "4      95.0            3200.0  10791  "
      ]
     },
     "execution_count": 120,
     "metadata": {},
     "output_type": "execute_result"
    }
   ],
   "source": [
    "amd.drop(['id','url'],axis = 1).head()"
   ]
  },
  {
   "cell_type": "code",
   "execution_count": 139,
   "id": "e83cc48a",
   "metadata": {},
   "outputs": [
    {
     "data": {
      "text/plain": [
       "[16.0, 12.0, 8.0, 6.0, 64.0, 32.0, 24.0, 4.0, 2.0, 56.0, 48.0, 28.0, 3.0]"
      ]
     },
     "execution_count": 139,
     "metadata": {},
     "output_type": "execute_result"
    }
   ],
   "source": [
    "amd_cores = list(amd.cores.dropna().unique())\n",
    "amd_cores\n",
    "## Dropping the Na values of amd and get the unique values in list format instead of arrays."
   ]
  },
  {
   "cell_type": "markdown",
   "id": "962deba7",
   "metadata": {},
   "source": [
    "##### Plotting the pie plot for AMD processor with no of cores."
   ]
  },
  {
   "cell_type": "code",
   "execution_count": 148,
   "id": "a82d2c02",
   "metadata": {},
   "outputs": [
    {
     "data": {
      "image/png": "[encoded data removed]",
      "text/plain": [
       "<Figure size 864x864 with 1 Axes>"
      ]
     },
     "metadata": {},
     "output_type": "display_data"
    }
   ],
   "source": [
    "plt.figure(figsize = (12,12))\n",
    "plt.pie(amd_cores , labels = amd_cores , autopct = \"%1.1f%%\")\n",
    "plt.title(\"AMD processors with amd cores\" , weight = 'bold' , color = 'blue' , size = 20)\n",
    "plt.show()"
   ]
  },
  {
   "cell_type": "markdown",
   "id": "7043e2df",
   "metadata": {},
   "source": [
    "#### PIL is the Python Imaging Library which provides the python interpreter with image editing capabilities.\n",
    "#### Word Cloud is a data visualization technique used for representing text data in which the size of each word indicates its frequency or importance"
   ]
  },
  {
   "cell_type": "code",
   "execution_count": 190,
   "id": "ddf5e695",
   "metadata": {},
   "outputs": [
    {
     "data": {
      "text/plain": [
       "AM4         127\n",
       "SP3          58\n",
       "FP4          36\n",
       "FP5          35\n",
       "FP6          32\n",
       "AM3+         30\n",
       "G34          29\n",
       "FM2+         29\n",
       "AM3          25\n",
       "FM2          22\n",
       "C32          18\n",
       "FT3          16\n",
       "FT3b         14\n",
       "S1           10\n",
       "FP3           9\n",
       "sTR4          7\n",
       "AM1           5\n",
       "FM1 uPGA      4\n",
       "sWRX8         3\n",
       "sTRX4         3\n",
       "FT4           2\n",
       "FT5           2\n",
       "AM2+          2\n",
       "939           1\n",
       "FS1r2         1\n",
       "Name: socket, dtype: int64"
      ]
     },
     "execution_count": 190,
     "metadata": {},
     "output_type": "execute_result"
    }
   ],
   "source": [
    "sockets_amd = amd['socket'].value_counts()\n",
    "sockets_amd"
   ]
  },
  {
   "cell_type": "code",
   "execution_count": 222,
   "id": "c995aa5b",
   "metadata": {},
   "outputs": [
    {
     "data": {
      "image/png": "[encoded data removed]",
      "text/plain": [
       "<Figure size 1080x360 with 1 Axes>"
      ]
     },
     "metadata": {
      "needs_background": "light"
     },
     "output_type": "display_data"
    }
   ],
   "source": [
    "#PLotting the bar plot for amd processors available with sockets\n",
    "plt.figure(figsize = (15,5))\n",
    "#amd['socket'].value_counts().plot.bar()\n",
    "sockets_amd.plot.bar(color = ['gold','blue','green','pink','black','orange','red','purple','yellow'])\n",
    "plt.title('Processors available with sockets',color = 'blue', weight = 'bold')\n",
    "plt.show()"
   ]
  },
  {
   "cell_type": "code",
   "execution_count": 223,
   "id": "f9338b75",
   "metadata": {},
   "outputs": [
    {
     "data": {
      "text/plain": [
       "id                               1098\n",
       "cores                              18\n",
       "threads                            20\n",
       "name                             1090\n",
       "processor_number                 1087\n",
       "launch_date                        40\n",
       "lithography                         4\n",
       "bus_speed                           6\n",
       "base_frequency                     46\n",
       "turbo_frequency                    38\n",
       "configurable_tdp_up_frequency      24\n",
       "cache_size                         43\n",
       "tdp                                96\n",
       "configurable_tdp_up                 9\n",
       "price                             322\n",
       "product_line                       42\n",
       "socket                             36\n",
       "memory_type                        77\n",
       "url                              1098\n",
       "vertical_segment                    5\n",
       "max_memory_size                    20\n",
       "status                              3\n",
       "max_temp                           52\n",
       "sku                              1098\n",
       "package_size                       48\n",
       "fullname                         1098\n",
       "dtype: int64"
      ]
     },
     "execution_count": 223,
     "metadata": {},
     "output_type": "execute_result"
    }
   ],
   "source": [
    "intel.nunique()"
   ]
  },
  {
   "cell_type": "code",
   "execution_count": 224,
   "id": "9e1c0aa6",
   "metadata": {},
   "outputs": [
    {
     "data": {
      "text/plain": [
       "array([ 2,  4,  8, 16, 14, 20, 12, 18,  6, 22, 10, 24, 28, 26, 56, 32, 36,\n",
       "       38], dtype=int64)"
      ]
     },
     "execution_count": 224,
     "metadata": {},
     "output_type": "execute_result"
    }
   ],
   "source": [
    "intel.cores.unique()"
   ]
  },
  {
   "cell_type": "code",
   "execution_count": 225,
   "id": "8c4e53c0",
   "metadata": {},
   "outputs": [
    {
     "data": {
      "text/plain": [
       "array([1.67772160e+07, 3.35544320e+07, 6.71088640e+07, 8.05306368e+08,\n",
       "       1.61061274e+09, 8.38860800e+06, 1.07374182e+09, 9.21698304e+06,\n",
       "       4.19430400e+06, 1.34217728e+08, 4.83183821e+09, 1.71756749e+07,\n",
       "       1.20259084e+09,            nan, 6.44245094e+09, 2.68435456e+08,\n",
       "       6.73500365e+07, 6.75807232e+07, 5.36870912e+08, 2.14748365e+09,\n",
       "       4.29496730e+09])"
      ]
     },
     "execution_count": 225,
     "metadata": {},
     "output_type": "execute_result"
    }
   ],
   "source": [
    "intel.max_memory_size.unique()"
   ]
  },
  {
   "cell_type": "code",
   "execution_count": 231,
   "id": "fdda92d6",
   "metadata": {},
   "outputs": [
    {
     "data": {
      "text/plain": [
       "array([1700., 3100., 3400., 2600., 2400., 2000., 2200., 2700., 2800.,\n",
       "       3500., 2500., 1300., 3000., 1500., 2300., 3200., 2900., 1400.,\n",
       "       1600., 1900., 1800., 3300., 2100., 3900., 3600., 4000., 2410.,\n",
       "       1200., 1460., 1860., 2130., 1830., 2160., 1580., 3800., 3700.,\n",
       "       4200., 1040., 1100., 2260., 1250., 1000.,  800.,  700., 4100.,\n",
       "         nan, 4300.])"
      ]
     },
     "execution_count": 231,
     "metadata": {},
     "output_type": "execute_result"
    }
   ],
   "source": [
    "intel['base_frequency'].unique()"
   ]
  },
  {
   "cell_type": "code",
   "execution_count": 232,
   "id": "850bc2dc",
   "metadata": {},
   "outputs": [
    {
     "data": {
      "text/plain": [
       "array([2000.,   nan, 4100., 4000., 3600., 3400., 3000., 3100., 3200.,\n",
       "       3800., 3900., 3700., 2600., 1900., 3300., 2900., 2300., 3500.,\n",
       "       2700., 4200., 2800., 4400., 2500., 4300., 4500., 4700., 4600.,\n",
       "       2400., 5000., 2200., 4800., 4900., 2100., 1700., 1600., 5100.,\n",
       "       5300., 5200., 1300.])"
      ]
     },
     "execution_count": 232,
     "metadata": {},
     "output_type": "execute_result"
    }
   ],
   "source": [
    "intel.turbo_frequency.unique()"
   ]
  },
  {
   "cell_type": "code",
   "execution_count": 239,
   "id": "097c0eb4",
   "metadata": {},
   "outputs": [
    {
     "data": {
      "text/plain": [
       "array(['DDR3/DDR3L 1333', 'DDR4-2400',\n",
       "       'DDR4-1866/2133, DDR3L-1333/1600 @ 1.35V', 'DDR3L 1333/1600',\n",
       "       'DDR3L 1333/1600, LPDDR3 1600/1866',\n",
       "       'DDR3L 1333/1600, LPDDR3 1333/1600', 'DDR3L 1600',\n",
       "       'DDR3-1333/1600, DDR3L-1333/1600 @ 1.5V',\n",
       "       'DDR3 and DDR3L 1333/1600 at 1.5V', 'DDR3 1333/1600',\n",
       "       'DDR3L-1333, 1600; LPDDR3-1333, 1600',\n",
       "       'DDR3L 1600/1866 LPDDR3 1600/1866', 'DDR3L-1333/1600/1866 @ 1.5V',\n",
       "       'DDR4-2666', 'DDR3L-1333/1600 @ 1.5V',\n",
       "       'DDR4-2133, LPDDR3-1866, DDR3L-1600',\n",
       "       'DDR4-2133, LPDDR3 - 1866, DDR3L-1600', 'DDR3L 1333', 'DDR3L-1600',\n",
       "       'DDR3L/LPDDR3 up to 1866 MT/s; LPDDR4 up to 2400 MT/s',\n",
       "       'DDR4/LPDDR4 upto 2400 MT/s', 'LPDDR3-1866, DDR3L-1600',\n",
       "       'DDR4-2400, LPDDR3-2133, DDR3L-1600',\n",
       "       'DDR4-2133/2400, DDR3L-1333/1600 @ 1.35V', '2667', 'DDR4-2933',\n",
       "       '4x32 LPDDR4/x 3733MT/s Max (8GB, 16GB @3200MT/s) / 2x64 DDR4 3200MT/s Max 32GB',\n",
       "       'DDR3L 1066', 'DDR4-2400, LPDDR3-2133', 'DDR4-2666, LPDDR3-2133',\n",
       "       'DDR4-2667', 'DDR4/LPDDR4 upto 2400MT/s',\n",
       "       'DDR4/LPDDR4 (SRET0) up to 2400 MT/s DDR4 (SRKLL) up to 2400 MT/s',\n",
       "       'DDR4/LPDDR4 up to 2400 MT/s',\n",
       "       '4x32 LPDDR4/x 3200MT/s Max 16GB / 2x64 DDR4 3200MT/s Max 32GB',\n",
       "       'DDR4 LPDDR4x', 'LPDDR3-2133, DDR3L-1600',\n",
       "       'DDR3L 1333/1600  LPDDR 1333 /1600', 'DDR3 1066', 'DDR4 RDIMM',\n",
       "       'DDR3L-1600, DDR4-2400', nan, 'DDR3/DDR3L 1600', 'DDR3 1333',\n",
       "       'DDR 1333', 'DDR4: 1866', 'LPDDR4-3733',\n",
       "       'DDR3-1333, DDR3L-1333 @ 1.5V', 'DDR4-3200, LPDDR4-3733',\n",
       "       'DDR4-2666, LPDDR3-2133, LPDDR4-2933', 'DDR4-3200', 'RDIMM',\n",
       "       'DDR4-2400, LPDDR4/x-2400', 'DDR4: 2400', 'DDR4: 2133',\n",
       "       'DDR4-1866', 'DDR3 1066/1333/1600', 'DDR3/L/-RS 1333/1600',\n",
       "       'DDR3 1333/1600/1866', 'DDR4 1600/1866/2133', 'DDR4 2400/2133',\n",
       "       'DDR4-2133, LPDDR3-1866', 'DDR4-3200, LPDDR4x-3733',\n",
       "       'LPDDR4x-4267', 'DDR4 2133, DDR3L 1333/1600 @ 1.35V',\n",
       "       'DDR4-2133, DDR3L-1600', 'DDR4-3200, LPDDR4x-4267',\n",
       "       'DDR4-3200, LPDDR4x-4267, In-Band ECC', 'DDR4', 'DDR-2400',\n",
       "       'Up to 3200 MT/s', 'DDR4-3200, LPDDR4x-3733, In -Band ECC',\n",
       "       'DDR4-2133', 'DDR4 2933', 'DDR4 2666', 'DDR4 1600/1866/2133/2400',\n",
       "       'DDR4 1600/1866/2133/2400/2666', 'DDR4, DDR3'], dtype=object)"
      ]
     },
     "execution_count": 239,
     "metadata": {},
     "output_type": "execute_result"
    }
   ],
   "source": [
    "intel.memory_type.unique()"
   ]
  },
  {
   "cell_type": "code",
   "execution_count": 240,
   "id": "91f2b8d8",
   "metadata": {},
   "outputs": [],
   "source": [
    "intel.drop(['id' , 'url'],axis = 1 , inplace = True)"
   ]
  },
  {
   "cell_type": "code",
   "execution_count": 242,
   "id": "99879434",
   "metadata": {},
   "outputs": [
    {
     "data": {
      "text/plain": [
       "[2, 4, 8, 16, 14, 20, 12, 18, 6, 22, 10, 24, 28, 26, 56, 32, 36, 38]"
      ]
     },
     "execution_count": 242,
     "metadata": {},
     "output_type": "execute_result"
    }
   ],
   "source": [
    "intel_cores = list(intel.cores.unique())\n",
    "intel_cores\n",
    "# Get the cores in list format."
   ]
  },
  {
   "cell_type": "code",
   "execution_count": 244,
   "id": "14274d3b",
   "metadata": {},
   "outputs": [
    {
     "data": {
      "text/plain": [
       "[2, 4, 8, 16, 14, 20, 12, 18, 6, 22, 10, 24, 28, 26, 56, 32, 36, 38]"
      ]
     },
     "execution_count": 244,
     "metadata": {},
     "output_type": "execute_result"
    }
   ],
   "source": [
    "intel_cores = list(intel.cores.dropna().unique())\n",
    "intel_cores"
   ]
  },
  {
   "cell_type": "markdown",
   "id": "0f2df770",
   "metadata": {},
   "source": [
    "#### There is no na values in intel cores"
   ]
  },
  {
   "cell_type": "code",
   "execution_count": 263,
   "id": "d27076ac",
   "metadata": {},
   "outputs": [
    {
     "data": {
      "image/png": "[encoded data removed]",
      "text/plain": [
       "<Figure size 720x720 with 1 Axes>"
      ]
     },
     "metadata": {},
     "output_type": "display_data"
    }
   ],
   "source": [
    "## Plotting the cores availabe in intel processor.\n",
    "plt.figure(figsize = (10,10))\n",
    "plt.pie(intel_cores , labels = intel_cores , autopct = '1.1%f%%')\n",
    "plt.title('Cores availbale with Intel Processors')\n",
    "plt.show()"
   ]
  },
  {
   "cell_type": "code",
   "execution_count": 273,
   "id": "5eecc8ce",
   "metadata": {},
   "outputs": [
    {
     "name": "stdout",
     "output_type": "stream",
     "text": [
      "FCLGA3647                151\n",
      "FCLGA1151                137\n",
      "FCLGA1200                111\n",
      "FCBGA1440                 72\n",
      "FCLGA1150                 61\n",
      "FCLGA4189                 57\n",
      "FCBGA1168                 51\n",
      "FCBGA1364                 44\n",
      "FCLGA2066                 38\n",
      "FCBGA1667                 37\n",
      "FCBGA1356                 28\n",
      "FCBGA1528                 26\n",
      "FCBGA1449                 26\n",
      "FCBGA1170                 24\n",
      "FCBGA1787                 21\n",
      "FCBGA1310                 20\n",
      "FCPGA946                  18\n",
      "FCBGA1283                 17\n",
      "FCBGA1090                 16\n",
      "FCBGA2518                 14\n",
      "FCBGA1515                 10\n",
      "FCBGA1338                  8\n",
      "BGA2270                    7\n",
      "FCLGA2011                  7\n",
      "FCLGA2011-3                7\n",
      "FCBGA1598                  6\n",
      "FCBGA1526                  5\n",
      "FCLGA1155                  5\n",
      "FCBGA1493                  4\n",
      "FCBGA1296                  4\n",
      "UTFCBGA1377                4\n",
      "FC-BGA1356                 4\n",
      "FCBGA1344                  2\n",
      "FCPGA988                   2\n",
      "FC-BGA1356, FCBGA1356      1\n",
      "FCLGA1156                  1\n",
      "Name: socket, dtype: int64\n"
     ]
    }
   ],
   "source": [
    "## Plotting the no bar plot for available sockets in intel processor.\n",
    "sockets_intel = intel.socket.value_counts()\n",
    "print(sockets_intel)"
   ]
  },
  {
   "cell_type": "code",
   "execution_count": 279,
   "id": "f1f1a39b",
   "metadata": {},
   "outputs": [
    {
     "data": {
      "image/png": "[encoded data removed]",
      "text/plain": [
       "<Figure size 864x360 with 1 Axes>"
      ]
     },
     "metadata": {
      "needs_background": "light"
     },
     "output_type": "display_data"
    }
   ],
   "source": [
    "plt.figure(figsize = (12,5))\n",
    "sockets_intel.plot.bar(color = ['lightpink','lightgreen'])\n",
    "plt.show()"
   ]
  },
  {
   "cell_type": "code",
   "execution_count": 281,
   "id": "2f9ec3e1",
   "metadata": {},
   "outputs": [
    {
     "data": {
      "text/plain": [
       "<AxesSubplot:>"
      ]
     },
     "execution_count": 281,
     "metadata": {},
     "output_type": "execute_result"
    },
    {
     "data": {
      "image/png": "[encoded data removed]",
      "text/plain": [
       "<Figure size 432x288 with 1 Axes>"
      ]
     },
     "metadata": {
      "needs_background": "light"
     },
     "output_type": "display_data"
    }
   ],
   "source": [
    "### Now of processors that is launched or yet to launched.\n",
    "intel['status'].value_counts().plot.bar(color = ['green','blue','red'])"
   ]
  },
  {
   "cell_type": "code",
   "execution_count": 287,
   "id": "a85b21fd",
   "metadata": {},
   "outputs": [
    {
     "data": {
      "text/plain": [
       "<AxesSubplot:xlabel='status', ylabel='cores'>"
      ]
     },
     "execution_count": 287,
     "metadata": {},
     "output_type": "execute_result"
    },
    {
     "data": {
      "image/png": "[encoded data removed]",
      "text/plain": [
       "<Figure size 432x288 with 1 Axes>"
      ]
     },
     "metadata": {
      "needs_background": "light"
     },
     "output_type": "display_data"
    }
   ],
   "source": [
    "sns.barplot(x = intel['status'] , y = intel['cores'].value_counts())"
   ]
  },
  {
   "cell_type": "code",
   "execution_count": 297,
   "id": "8148ef34",
   "metadata": {},
   "outputs": [
    {
     "data": {
      "text/plain": [
       "Text(0.5, 1.0, 'Types of vertical segment in which Intel offers processors')"
      ]
     },
     "execution_count": 297,
     "metadata": {},
     "output_type": "execute_result"
    },
    {
     "data": {
      "image/png": "[encoded data removed]",
      "text/plain": [
       "<Figure size 432x288 with 1 Axes>"
      ]
     },
     "metadata": {
      "needs_background": "light"
     },
     "output_type": "display_data"
    }
   ],
   "source": [
    "## Memory type in which intel offers processors\n",
    "intel['vertical_segment'].value_counts().plot.bar(color = ['green','blue','red','purple','pink'])\n",
    "plt.title('Types of vertical segment in which Intel offers processors')"
   ]
  },
  {
   "cell_type": "code",
   "execution_count": 309,
   "id": "e2dae8ba",
   "metadata": {},
   "outputs": [
    {
     "data": {
      "image/png": "[encoded data removed]",
      "text/plain": [
       "<Figure size 432x288 with 1 Axes>"
      ]
     },
     "metadata": {
      "needs_background": "light"
     },
     "output_type": "display_data"
    }
   ],
   "source": [
    "sns.countplot(x = 'vertical_segment' , hue = 'status' , data = intel)\n",
    "plt.title(\"Launched or Discontinued of vertical segment in intel processors\")\n",
    "plt.grid(True)\n",
    "plt.show()"
   ]
  },
  {
   "cell_type": "code",
   "execution_count": null,
   "id": "1ae076a5",
   "metadata": {},
   "outputs": [],
   "source": []
  },
  {
   "cell_type": "markdown",
   "id": "be51e170",
   "metadata": {},
   "source": [
    "##### REL is a modular Entity Linking package that is provided as a Python package as well as a web API."
   ]
  },
  {
   "cell_type": "markdown",
   "id": "d67df8a7",
   "metadata": {},
   "source": [
    "##### Registered Event Listener. Provides standard (pyevent) interface and functionality without external dependencies."
   ]
  },
  {
   "cell_type": "code",
   "execution_count": 333,
   "id": "e89f7550",
   "metadata": {},
   "outputs": [
    {
     "name": "stderr",
     "output_type": "stream",
     "text": [
      "No handles with labels found to put in legend.\n"
     ]
    },
    {
     "data": {
      "image/png": "[encoded data removed]",
      "text/plain": [
       "<Figure size 864x360 with 1 Axes>"
      ]
     },
     "metadata": {},
     "output_type": "display_data"
    }
   ],
   "source": [
    "## SKU benchmark for intel processors over the years.\n",
    "sns.set({'figure.figsize' : (12,5)})\n",
    "sns.lineplot(x = intel['launch_date'] , y = intel['sku'])\n",
    "plt.title(\"SKU benchmark over the years of intel processors\")\n",
    "plt.legend(loc = 'best')\n",
    "plt.xticks(size = 13 , rotation = 45)\n",
    "plt.tight_layout()\n",
    "plt.show()"
   ]
  },
  {
   "cell_type": "code",
   "execution_count": 365,
   "id": "f588be5e",
   "metadata": {},
   "outputs": [
    {
     "name": "stdout",
     "output_type": "stream",
     "text": [
      "<class 'pandas.core.frame.DataFrame'>\n",
      "RangeIndex: 538 entries, 0 to 537\n",
      "Data columns (total 21 columns):\n",
      " #   Column            Non-Null Count  Dtype         \n",
      "---  ------            --------------  -----         \n",
      " 0   id                538 non-null    int64         \n",
      " 1   cores             533 non-null    float64       \n",
      " 2   threads           478 non-null    float64       \n",
      " 3   name              538 non-null    object        \n",
      " 4   launch_date       185 non-null    datetime64[ns]\n",
      " 5   lithography       440 non-null    float64       \n",
      " 6   base_frequency    538 non-null    int64         \n",
      " 7   turbo_frequency   457 non-null    float64       \n",
      " 8   cache_l1          285 non-null    float64       \n",
      " 9   cache_l2          476 non-null    float64       \n",
      " 10  cache_l3          331 non-null    float64       \n",
      " 11  tdp               523 non-null    float64       \n",
      " 12  product_line      538 non-null    object        \n",
      " 13  socket            520 non-null    object        \n",
      " 14  memory_type       503 non-null    object        \n",
      " 15  url               538 non-null    object        \n",
      " 16  vertical_segment  538 non-null    object        \n",
      " 17  max_temp          407 non-null    float64       \n",
      " 18  max_memory_speed  442 non-null    float64       \n",
      " 19  sku               538 non-null    int64         \n",
      " 20  month             185 non-null    float64       \n",
      "dtypes: datetime64[ns](1), float64(11), int64(3), object(6)\n",
      "memory usage: 88.4+ KB\n"
     ]
    }
   ],
   "source": [
    "amd['launch_date'] = pd.to_datetime(amd['launch_date'])\n",
    "amd.info()"
   ]
  },
  {
   "cell_type": "code",
   "execution_count": 367,
   "id": "90905f93",
   "metadata": {},
   "outputs": [
    {
     "data": {
      "text/html": [
       "<div>\n",
       "<style scoped>\n",
       "    .dataframe tbody tr th:only-of-type {\n",
       "        vertical-align: middle;\n",
       "    }\n",
       "\n",
       "    .dataframe tbody tr th {\n",
       "        vertical-align: top;\n",
       "    }\n",
       "\n",
       "    .dataframe thead th {\n",
       "        text-align: right;\n",
       "    }\n",
       "</style>\n",
       "<table border=\"1\" class=\"dataframe\">\n",
       "  <thead>\n",
       "    <tr style=\"text-align: right;\">\n",
       "      <th></th>\n",
       "      <th>id</th>\n",
       "      <th>cores</th>\n",
       "      <th>threads</th>\n",
       "      <th>name</th>\n",
       "      <th>launch_date</th>\n",
       "      <th>lithography</th>\n",
       "      <th>base_frequency</th>\n",
       "      <th>turbo_frequency</th>\n",
       "      <th>cache_l1</th>\n",
       "      <th>cache_l2</th>\n",
       "      <th>...</th>\n",
       "      <th>tdp</th>\n",
       "      <th>product_line</th>\n",
       "      <th>socket</th>\n",
       "      <th>memory_type</th>\n",
       "      <th>url</th>\n",
       "      <th>vertical_segment</th>\n",
       "      <th>max_temp</th>\n",
       "      <th>max_memory_speed</th>\n",
       "      <th>sku</th>\n",
       "      <th>month</th>\n",
       "    </tr>\n",
       "  </thead>\n",
       "  <tbody>\n",
       "    <tr>\n",
       "      <th>0</th>\n",
       "      <td>1</td>\n",
       "      <td>16.0</td>\n",
       "      <td>32.0</td>\n",
       "      <td>AMD Ryzen 9 5950X</td>\n",
       "      <td>2020-11-05</td>\n",
       "      <td>7.0</td>\n",
       "      <td>3400</td>\n",
       "      <td>4900.0</td>\n",
       "      <td>NaN</td>\n",
       "      <td>8192.0</td>\n",
       "      <td>...</td>\n",
       "      <td>105.0</td>\n",
       "      <td>AMD Ryzen 9 Desktop Processors</td>\n",
       "      <td>AM4</td>\n",
       "      <td>DDR4</td>\n",
       "      <td>https://www.amd.com/en/product/10456</td>\n",
       "      <td>Boxed Processor</td>\n",
       "      <td>90.0</td>\n",
       "      <td>3200.0</td>\n",
       "      <td>10456</td>\n",
       "      <td>11.0</td>\n",
       "    </tr>\n",
       "    <tr>\n",
       "      <th>1</th>\n",
       "      <td>2</td>\n",
       "      <td>12.0</td>\n",
       "      <td>24.0</td>\n",
       "      <td>AMD Ryzen 9 5900X</td>\n",
       "      <td>2020-11-05</td>\n",
       "      <td>7.0</td>\n",
       "      <td>3700</td>\n",
       "      <td>4800.0</td>\n",
       "      <td>NaN</td>\n",
       "      <td>6144.0</td>\n",
       "      <td>...</td>\n",
       "      <td>105.0</td>\n",
       "      <td>AMD Ryzen 9 Desktop Processors</td>\n",
       "      <td>AM4</td>\n",
       "      <td>DDR4</td>\n",
       "      <td>https://www.amd.com/en/product/10461</td>\n",
       "      <td>Boxed Processor</td>\n",
       "      <td>90.0</td>\n",
       "      <td>3200.0</td>\n",
       "      <td>10461</td>\n",
       "      <td>11.0</td>\n",
       "    </tr>\n",
       "    <tr>\n",
       "      <th>2</th>\n",
       "      <td>3</td>\n",
       "      <td>12.0</td>\n",
       "      <td>24.0</td>\n",
       "      <td>AMD Ryzen 9 5900 (OEM Only)</td>\n",
       "      <td>2021-01-12</td>\n",
       "      <td>7.0</td>\n",
       "      <td>3000</td>\n",
       "      <td>4700.0</td>\n",
       "      <td>NaN</td>\n",
       "      <td>6144.0</td>\n",
       "      <td>...</td>\n",
       "      <td>65.0</td>\n",
       "      <td>AMD Ryzen 9 Desktop Processors</td>\n",
       "      <td>AM4</td>\n",
       "      <td>DDR4</td>\n",
       "      <td>https://www.amd.com/en/product/10796</td>\n",
       "      <td>Desktop</td>\n",
       "      <td>95.0</td>\n",
       "      <td>3200.0</td>\n",
       "      <td>10796</td>\n",
       "      <td>1.0</td>\n",
       "    </tr>\n",
       "    <tr>\n",
       "      <th>3</th>\n",
       "      <td>4</td>\n",
       "      <td>8.0</td>\n",
       "      <td>16.0</td>\n",
       "      <td>AMD Ryzen 7 5800X</td>\n",
       "      <td>2020-11-05</td>\n",
       "      <td>7.0</td>\n",
       "      <td>3800</td>\n",
       "      <td>4700.0</td>\n",
       "      <td>NaN</td>\n",
       "      <td>4096.0</td>\n",
       "      <td>...</td>\n",
       "      <td>105.0</td>\n",
       "      <td>AMD Ryzen 7 Desktop Processors</td>\n",
       "      <td>AM4</td>\n",
       "      <td>DDR4</td>\n",
       "      <td>https://www.amd.com/en/product/10466</td>\n",
       "      <td>Boxed Processor</td>\n",
       "      <td>90.0</td>\n",
       "      <td>3200.0</td>\n",
       "      <td>10466</td>\n",
       "      <td>11.0</td>\n",
       "    </tr>\n",
       "    <tr>\n",
       "      <th>4</th>\n",
       "      <td>5</td>\n",
       "      <td>8.0</td>\n",
       "      <td>16.0</td>\n",
       "      <td>AMD Ryzen 7 5800 (OEM Only)</td>\n",
       "      <td>2021-01-12</td>\n",
       "      <td>7.0</td>\n",
       "      <td>3400</td>\n",
       "      <td>4600.0</td>\n",
       "      <td>NaN</td>\n",
       "      <td>4096.0</td>\n",
       "      <td>...</td>\n",
       "      <td>65.0</td>\n",
       "      <td>AMD Ryzen 7 Desktop Processors</td>\n",
       "      <td>AM4</td>\n",
       "      <td>DDR4</td>\n",
       "      <td>https://www.amd.com/en/product/10791</td>\n",
       "      <td>Desktop</td>\n",
       "      <td>95.0</td>\n",
       "      <td>3200.0</td>\n",
       "      <td>10791</td>\n",
       "      <td>1.0</td>\n",
       "    </tr>\n",
       "  </tbody>\n",
       "</table>\n",
       "<p>5 rows × 21 columns</p>\n",
       "</div>"
      ],
      "text/plain": [
       "   id  cores  threads                         name launch_date  lithography  \\\n",
       "0   1   16.0     32.0            AMD Ryzen 9 5950X  2020-11-05          7.0   \n",
       "1   2   12.0     24.0            AMD Ryzen 9 5900X  2020-11-05          7.0   \n",
       "2   3   12.0     24.0  AMD Ryzen 9 5900 (OEM Only)  2021-01-12          7.0   \n",
       "3   4    8.0     16.0            AMD Ryzen 7 5800X  2020-11-05          7.0   \n",
       "4   5    8.0     16.0  AMD Ryzen 7 5800 (OEM Only)  2021-01-12          7.0   \n",
       "\n",
       "   base_frequency  turbo_frequency  cache_l1  cache_l2  ...    tdp  \\\n",
       "0            3400           4900.0       NaN    8192.0  ...  105.0   \n",
       "1            3700           4800.0       NaN    6144.0  ...  105.0   \n",
       "2            3000           4700.0       NaN    6144.0  ...   65.0   \n",
       "3            3800           4700.0       NaN    4096.0  ...  105.0   \n",
       "4            3400           4600.0       NaN    4096.0  ...   65.0   \n",
       "\n",
       "                     product_line socket memory_type  \\\n",
       "0  AMD Ryzen 9 Desktop Processors    AM4        DDR4   \n",
       "1  AMD Ryzen 9 Desktop Processors    AM4        DDR4   \n",
       "2  AMD Ryzen 9 Desktop Processors    AM4        DDR4   \n",
       "3  AMD Ryzen 7 Desktop Processors    AM4        DDR4   \n",
       "4  AMD Ryzen 7 Desktop Processors    AM4        DDR4   \n",
       "\n",
       "                                    url vertical_segment max_temp  \\\n",
       "0  https://www.amd.com/en/product/10456  Boxed Processor     90.0   \n",
       "1  https://www.amd.com/en/product/10461  Boxed Processor     90.0   \n",
       "2  https://www.amd.com/en/product/10796          Desktop     95.0   \n",
       "3  https://www.amd.com/en/product/10466  Boxed Processor     90.0   \n",
       "4  https://www.amd.com/en/product/10791          Desktop     95.0   \n",
       "\n",
       "   max_memory_speed    sku  month  \n",
       "0            3200.0  10456   11.0  \n",
       "1            3200.0  10461   11.0  \n",
       "2            3200.0  10796    1.0  \n",
       "3            3200.0  10466   11.0  \n",
       "4            3200.0  10791    1.0  \n",
       "\n",
       "[5 rows x 21 columns]"
      ]
     },
     "execution_count": 367,
     "metadata": {},
     "output_type": "execute_result"
    }
   ],
   "source": [
    "amd['month'] = amd['launch_date'].dt.month\n",
    "amd.head()"
   ]
  }
 ],
 "metadata": {
  "kernelspec": {
   "display_name": "Python 3",
   "language": "python",
   "name": "python3"
  },
  "language_info": {
   "codemirror_mode": {
    "name": "ipython",
    "version": 3
   },
   "file_extension": ".py",
   "mimetype": "text/x-python",
   "name": "python",
   "nbconvert_exporter": "python",
   "pygments_lexer": "ipython3",
   "version": "3.8.8"
  }
 },
 "nbformat": 4,
 "nbformat_minor": 5
}
